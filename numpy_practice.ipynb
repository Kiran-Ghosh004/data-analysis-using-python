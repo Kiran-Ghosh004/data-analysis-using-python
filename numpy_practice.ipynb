{
 "cells": [
  {
   "cell_type": "code",
   "execution_count": 2,
   "id": "0c6bd83a",
   "metadata": {},
   "outputs": [
    {
     "name": "stdout",
     "output_type": "stream",
     "text": [
      "hello\n"
     ]
    }
   ],
   "source": [
    "print(\"hello\")\n",
    "import numpy as np"
   ]
  },
  {
   "cell_type": "markdown",
   "id": "690dbf03",
   "metadata": {},
   "source": [
    "multiplication of two numpy array usinf dot function"
   ]
  },
  {
   "cell_type": "code",
   "execution_count": 6,
   "id": "86e3558b",
   "metadata": {},
   "outputs": [
    {
     "name": "stdout",
     "output_type": "stream",
     "text": [
      "[[ 9 16 21]\n",
      " [24 25 24]\n",
      " [21 16  9]]\n",
      "\n",
      "\n",
      "[[ 30  24  18]\n",
      " [ 84  69  54]\n",
      " [138 114  90]]\n"
     ]
    }
   ],
   "source": [
    "a = np.array([[1, 2, 3],\n",
    "              [4, 5, 6],\n",
    "              [7, 8, 9]])\n",
    "\n",
    "# Matrix B\n",
    "b= np.array([[9, 8, 7],\n",
    "              [6, 5, 4],\n",
    "              [3, 2, 1]])\n",
    "\n",
    "# Element-wise multiplication\n",
    "print(a*b)\n",
    "print(\"\\n\")\n",
    "# Matrix multiplication\n",
    "print(np.dot(a, b))"
   ]
  },
  {
   "cell_type": "markdown",
   "id": "e008a5a4",
   "metadata": {},
   "source": [
    "numpy programs web string functions "
   ]
  },
  {
   "cell_type": "code",
   "execution_count": 15,
   "id": "71bf9736",
   "metadata": {},
   "outputs": [
    {
     "name": "stdout",
     "output_type": "stream",
     "text": [
      "['I' 'LOVE' 'PYTHON' 'AND' 'NUMPY']\n",
      "['i' 'love' 'python' 'and' 'numpy']\n",
      "['I' 'Love' 'Python' 'And' 'Numpy']\n",
      "['I' 'Love' 'Python' 'And' 'Numpy']\n",
      "['i' 'LOVE' 'pYTHON' 'AND' 'nUMPY']\n"
     ]
    }
   ],
   "source": [
    "s=np.array([\"I\",\"love\",\"Python\",\"and\",\"Numpy\"])\n",
    "upper=np.char.upper(s)\n",
    "print(upper)\n",
    "lower=np.char.lower(s)\n",
    "print(lower)\n",
    "capitalizze=np.char.capitalize(s)\n",
    "print(capitalizze)\n",
    "title_case=np.char.title(s)\n",
    "print(title_case)\n",
    "\n",
    "print(np.char.swapcase(s))\n",
    "\n",
    "\n"
   ]
  },
  {
   "cell_type": "markdown",
   "id": "4faecd2a",
   "metadata": {},
   "source": [
    "get tow numbers of numpy array if any elements is having larger value than a specifies value\n"
   ]
  },
  {
   "cell_type": "code",
   "execution_count": 24,
   "id": "e87adece",
   "metadata": {},
   "outputs": [
    {
     "data": {
      "text/plain": [
       "array([2, 3, 4])"
      ]
     },
     "execution_count": 24,
     "metadata": {},
     "output_type": "execute_result"
    }
   ],
   "source": [
    "arr = np.array([[ 1,  2,  3,  4,  5],\n",
    "                [ 6,  7,  8,  9, 10],\n",
    "                [11, 12, 13, 14, 15],\n",
    "                [16, 17, 18, 19, 20],\n",
    "                [21, 22, 23, 24, 25]])\n",
    "\n",
    "\n",
    "x=10\n",
    "# np.any(arr > x,axis=1) \n",
    "res=np.where(np.any(arr > x,axis=1))\n",
    "res[0]\n",
    " # Check if any element is greater than 10\n"
   ]
  },
  {
   "cell_type": "markdown",
   "id": "07b26510",
   "metadata": {},
   "source": [
    "how to remove rows which contains null values in a numpy array"
   ]
  },
  {
   "cell_type": "code",
   "execution_count": null,
   "id": "4af2c7c1",
   "metadata": {},
   "outputs": [
    {
     "data": {
      "text/plain": [
       "array([[ 10.,  20.,  30.,  40.,  50.],\n",
       "       [160., 170., 180., 190., 200.]])"
      ]
     },
     "execution_count": 28,
     "metadata": {},
     "output_type": "execute_result"
    }
   ],
   "source": [
    "arr = np.array([\n",
    "    [10,  20,  30,   40,  50],\n",
    "    [60,  np.nan,  80,   90, 100],\n",
    "    [110, 120, 130, np.nan, 150],\n",
    "    [160, 170, 180, 190, 200],\n",
    "    [210, 220, np.nan, 240, 250]\n",
    "])\n",
    "\n",
    "np.isnan(arr).any(axis=1)\n",
    "arr[~np.isnan(arr).any(axis=1)]\n"
   ]
  },
  {
   "cell_type": "markdown",
   "id": "7b5cb306",
   "metadata": {},
   "source": [
    "hwo to multiply string within a numpy array"
   ]
  },
  {
   "cell_type": "code",
   "execution_count": 32,
   "id": "d607ee4b",
   "metadata": {},
   "outputs": [
    {
     "data": {
      "text/plain": [
       "array(['III', 'lovelovelove', 'PythonPythonPython', 'andandand',\n",
       "       'NumpyNumpyNumpy'], dtype='<U18')"
      ]
     },
     "execution_count": 32,
     "metadata": {},
     "output_type": "execute_result"
    }
   ],
   "source": [
    "s=np.array([\"I\",\"love\",\"Python\",\"and\",\"Numpy\"])\n",
    "np.char.multiply(s,3)\n"
   ]
  },
  {
   "cell_type": "markdown",
   "id": "2a18a06c",
   "metadata": {},
   "source": [
    "how do you fill diagonal value with a number of a numpy array"
   ]
  },
  {
   "cell_type": "code",
   "execution_count": 34,
   "id": "014c8924",
   "metadata": {},
   "outputs": [
    {
     "name": "stdout",
     "output_type": "stream",
     "text": [
      "[[1 2 3]\n",
      " [4 5 6]]\n",
      "[[10  2  3]\n",
      " [ 4 10  6]]\n"
     ]
    }
   ],
   "source": [
    "arr=np.array([[1, 2, 3],\n",
    "              [4, 5, 6]])\n",
    "print(arr)\n",
    "np.fill_diagonal(arr, 10)\n",
    "print(arr)"
   ]
  }
 ],
 "metadata": {
  "kernelspec": {
   "display_name": "base",
   "language": "python",
   "name": "python3"
  },
  "language_info": {
   "codemirror_mode": {
    "name": "ipython",
    "version": 3
   },
   "file_extension": ".py",
   "mimetype": "text/x-python",
   "name": "python",
   "nbconvert_exporter": "python",
   "pygments_lexer": "ipython3",
   "version": "3.13.5"
  }
 },
 "nbformat": 4,
 "nbformat_minor": 5
}
