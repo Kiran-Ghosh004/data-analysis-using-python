{
 "cells": [
  {
   "cell_type": "code",
   "execution_count": 1,
   "id": "8bb09951",
   "metadata": {},
   "outputs": [
    {
     "name": "stdout",
     "output_type": "stream",
     "text": [
      "hello\n"
     ]
    }
   ],
   "source": [
    "print(\"hello\")"
   ]
  },
  {
   "cell_type": "code",
   "execution_count": 2,
   "id": "125c8087",
   "metadata": {},
   "outputs": [],
   "source": [
    "import pandas as pd"
   ]
  },
  {
   "cell_type": "markdown",
   "id": "b255f791",
   "metadata": {},
   "source": [
    "series"
   ]
  },
  {
   "cell_type": "code",
   "execution_count": 4,
   "id": "dc5be37d",
   "metadata": {},
   "outputs": [
    {
     "name": "stdout",
     "output_type": "stream",
     "text": [
      "Series from list:\n",
      "0    1\n",
      "1    2\n",
      "2    3\n",
      "3    4\n",
      "4    5\n",
      "dtype: int64\n",
      "\n",
      "Series with mixed data types:\n",
      "0       1\n",
      "1     two\n",
      "2     3.0\n",
      "3    True\n",
      "dtype: object\n"
     ]
    }
   ],
   "source": [
    "#series is a one-dimensional labeled array capable of holding any data type.\n",
    "# It is similar to a list or an array, but with additional features like labels (index\n",
    "#) for each element.\n",
    "# A Series can be created from a list, dictionary, or another array-like object.\n",
    "# Example of creating a Series from a list\n",
    "s=pd.Series([1, 2, 3, 4, 5])\n",
    "print(\"Series from list:\")\n",
    "print(s)\n",
    "\n",
    "#if you create a series of multiple data types, it will automatically convert them to a common type (usually object).\n",
    "# Example of creating a Series with mixed data types\n",
    "s_mixed = pd.Series([1, 'two', 3.0, True])\n",
    "print(\"\\nSeries with mixed data types:\")\n",
    "print(s_mixed)"
   ]
  },
  {
   "cell_type": "markdown",
   "id": "d57bf435",
   "metadata": {},
   "source": [
    "operations of series"
   ]
  },
  {
   "cell_type": "code",
   "execution_count": 15,
   "id": "3b3f271f",
   "metadata": {},
   "outputs": [
    {
     "name": "stdout",
     "output_type": "stream",
     "text": [
      "\n",
      "Sum of two Series:\n",
      "0    11\n",
      "1    22\n",
      "2    33\n",
      "dtype: int64\n",
      "\n",
      "Mean of Series s1:\n",
      "20.0\n"
     ]
    }
   ],
   "source": [
    "#operations on Series\n",
    "# You can perform various operations on Series, such as arithmetic operations, statistical calculations, and more\n",
    "# Example of arithmetic operations on Series\n",
    "s1 = pd.Series([10, 20, 30])\n",
    "s2 = pd.Series([1, 2, 3])\n",
    "s_sum = s1 + s2\n",
    "print(\"\\nSum of two Series:\")\n",
    "print(s_sum)\n",
    "# Example of statistical calculations on Series\n",
    "s_mean = s1.mean()\n",
    "print(\"\\nMean of Series s1:\")\n",
    "print(s_mean)\n",
    "s.index\n",
    "s.dtype\n",
    "s.values\n",
    "s.name=\"calories\"\n"
   ]
  },
  {
   "cell_type": "markdown",
   "id": "c810f2f4",
   "metadata": {},
   "source": [
    "indexing"
   ]
  },
  {
   "cell_type": "code",
   "execution_count": 16,
   "id": "e37c8f30",
   "metadata": {},
   "outputs": [
    {
     "name": "stdout",
     "output_type": "stream",
     "text": [
      "1\n",
      "3\n",
      "1    2\n",
      "2    3\n",
      "3    4\n",
      "Name: calories, dtype: int64\n",
      "1\n",
      "1    2\n",
      "2    3\n",
      "3    4\n",
      "Name: calories, dtype: int64\n"
     ]
    }
   ],
   "source": [
    "#indexing in Series\n",
    "print(s[0])\n",
    "print(s[2])\n",
    "print(s[1:4])  # Slicing\n",
    "\n",
    "#iloc is used for integer-location based indexing\n",
    "print(s.iloc[0])  # First element\n",
    "print(s.iloc[1:4])  # Slicing using iloc\n",
    "\n"
   ]
  }
 ],
 "metadata": {
  "kernelspec": {
   "display_name": ".venv",
   "language": "python",
   "name": "python3"
  },
  "language_info": {
   "codemirror_mode": {
    "name": "ipython",
    "version": 3
   },
   "file_extension": ".py",
   "mimetype": "text/x-python",
   "name": "python",
   "nbconvert_exporter": "python",
   "pygments_lexer": "ipython3",
   "version": "3.13.2"
  }
 },
 "nbformat": 4,
 "nbformat_minor": 5
}
