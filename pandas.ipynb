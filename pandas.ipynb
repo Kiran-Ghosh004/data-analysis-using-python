{
 "cells": [
  {
   "cell_type": "code",
   "execution_count": 1,
   "id": "8bb09951",
   "metadata": {},
   "outputs": [
    {
     "name": "stdout",
     "output_type": "stream",
     "text": [
      "hello\n"
     ]
    }
   ],
   "source": [
    "print(\"hello\")"
   ]
  },
  {
   "cell_type": "code",
   "execution_count": 52,
   "id": "125c8087",
   "metadata": {},
   "outputs": [],
   "source": [
    "import pandas as pd\n",
    "import numpy as np"
   ]
  },
  {
   "cell_type": "markdown",
   "id": "b255f791",
   "metadata": {},
   "source": [
    "series"
   ]
  },
  {
   "cell_type": "code",
   "execution_count": 4,
   "id": "dc5be37d",
   "metadata": {},
   "outputs": [
    {
     "name": "stdout",
     "output_type": "stream",
     "text": [
      "Series from list:\n",
      "0    1\n",
      "1    2\n",
      "2    3\n",
      "3    4\n",
      "4    5\n",
      "dtype: int64\n",
      "\n",
      "Series with mixed data types:\n",
      "0       1\n",
      "1     two\n",
      "2     3.0\n",
      "3    True\n",
      "dtype: object\n"
     ]
    }
   ],
   "source": [
    "#series is a one-dimensional labeled array capable of holding any data type.\n",
    "# It is similar to a list or an array, but with additional features like labels (index\n",
    "#) for each element.\n",
    "# A Series can be created from a list, dictionary, or another array-like object.\n",
    "# Example of creating a Series from a list\n",
    "s=pd.Series([1, 2, 3, 4, 5])\n",
    "print(\"Series from list:\")\n",
    "print(s)\n",
    "\n",
    "#if you create a series of multiple data types, it will automatically convert them to a common type (usually object).\n",
    "# Example of creating a Series with mixed data types\n",
    "s_mixed = pd.Series([1, 'two', 3.0, True])\n",
    "print(\"\\nSeries with mixed data types:\")\n",
    "print(s_mixed)"
   ]
  },
  {
   "cell_type": "markdown",
   "id": "d57bf435",
   "metadata": {},
   "source": [
    "operations of series"
   ]
  },
  {
   "cell_type": "code",
   "execution_count": 15,
   "id": "3b3f271f",
   "metadata": {},
   "outputs": [
    {
     "name": "stdout",
     "output_type": "stream",
     "text": [
      "\n",
      "Sum of two Series:\n",
      "0    11\n",
      "1    22\n",
      "2    33\n",
      "dtype: int64\n",
      "\n",
      "Mean of Series s1:\n",
      "20.0\n"
     ]
    }
   ],
   "source": [
    "#operations on Series\n",
    "# You can perform various operations on Series, such as arithmetic operations, statistical calculations, and more\n",
    "# Example of arithmetic operations on Series\n",
    "s1 = pd.Series([10, 20, 30])\n",
    "s2 = pd.Series([1, 2, 3])\n",
    "s_sum = s1 + s2\n",
    "print(\"\\nSum of two Series:\")\n",
    "print(s_sum)\n",
    "# Example of statistical calculations on Series\n",
    "s_mean = s1.mean()\n",
    "print(\"\\nMean of Series s1:\")\n",
    "print(s_mean)\n",
    "s.index\n",
    "s.dtype\n",
    "s.values\n",
    "s.name=\"calories\"\n"
   ]
  },
  {
   "cell_type": "markdown",
   "id": "c810f2f4",
   "metadata": {},
   "source": [
    "indexing"
   ]
  },
  {
   "cell_type": "code",
   "execution_count": 16,
   "id": "e37c8f30",
   "metadata": {},
   "outputs": [
    {
     "name": "stdout",
     "output_type": "stream",
     "text": [
      "1\n",
      "3\n",
      "1    2\n",
      "2    3\n",
      "3    4\n",
      "Name: calories, dtype: int64\n",
      "1\n",
      "1    2\n",
      "2    3\n",
      "3    4\n",
      "Name: calories, dtype: int64\n"
     ]
    }
   ],
   "source": [
    "#indexing in Series\n",
    "print(s[0])\n",
    "print(s[2])\n",
    "print(s[1:4])  # Slicing\n",
    "\n",
    "#iloc is used for integer-location based indexing\n",
    "print(s.iloc[0])  # First element\n",
    "print(s.iloc[1:4])  # Slicing using iloc\n",
    "\n"
   ]
  },
  {
   "cell_type": "code",
   "execution_count": 33,
   "id": "a9227366",
   "metadata": {},
   "outputs": [
    {
     "name": "stdout",
     "output_type": "stream",
     "text": [
      "\n",
      "Series with custom index:\n",
      "a     apple\n",
      "b    banana\n",
      "c    cherry\n",
      "Name: Fruits, dtype: object\n",
      "\n",
      "\n",
      "b    banana\n",
      "c    cherry\n",
      "Name: Fruits, dtype: object\n"
     ]
    }
   ],
   "source": [
    "fruits = pd.Series(['apple', 'banana', 'cherry'], index=['a', 'b', 'c'])\n",
    "print(\"\\nSeries with custom index:\")    \n",
    "fruits.name=\"Fruits\"\n",
    "print(fruits)\n",
    "# fruits.iloc['b'] iloc is only for integer-based indexing, so it cannot be used with string labels.\n",
    "# To access elements by label, you can use the loc indexer.\n",
    "print(\"\\n\")\n",
    "fruits.loc['b']  # Accessing element with label 'b'\n",
    "print(fruits[\"appple\":\"cherry\"])\n"
   ]
  },
  {
   "cell_type": "markdown",
   "id": "2179492a",
   "metadata": {},
   "source": [
    "create a series using dictonaries"
   ]
  },
  {
   "cell_type": "code",
   "execution_count": 38,
   "id": "7230e6d5",
   "metadata": {},
   "outputs": [
    {
     "name": "stdout",
     "output_type": "stream",
     "text": [
      "Avocado         2.0\n",
      "Guava           2.6\n",
      "Blackberries    2.0\n",
      "Oranges         0.9\n",
      "Banana          1.1\n",
      "Apples          0.3\n",
      "Kiwi            1.1\n",
      "Pomegranate     1.7\n",
      "Mango           0.8\n",
      "Cherries        1.0\n",
      "Name: protien, dtype: float64\n"
     ]
    }
   ],
   "source": [
    "fruit_protein = {\n",
    "    \"Avocado\": 2.0,       # grams of protein\n",
    "    \"Guava\": 2.6,\n",
    "    \"Blackberries\": 2.0,\n",
    "    \"Oranges\": 0.9,\n",
    "    \"Banana\": 1.1,\n",
    "    \"Apples\": 0.3,\n",
    "    \"Kiwi\": 1.1,\n",
    "    \"Pomegranate\": 1.7,\n",
    "    \"Mango\": 0.8,\n",
    "    \"Cherries\": 1.0\n",
    "}\n",
    "s2=pd.Series(fruit_protein, name=\"protien\")\n",
    "print(s2)"
   ]
  },
  {
   "cell_type": "markdown",
   "id": "75fe46de",
   "metadata": {},
   "source": [
    "conditional selections"
   ]
  },
  {
   "cell_type": "code",
   "execution_count": 44,
   "id": "d75422f2",
   "metadata": {},
   "outputs": [
    {
     "name": "stdout",
     "output_type": "stream",
     "text": [
      "Avocado          True\n",
      "Guava            True\n",
      "Blackberries     True\n",
      "Oranges         False\n",
      "Banana          False\n",
      "Apples          False\n",
      "Kiwi            False\n",
      "Pomegranate      True\n",
      "Mango           False\n",
      "Cherries        False\n",
      "Name: protien, dtype: bool\n",
      "\n",
      "\n",
      "Avocado         2.0\n",
      "Guava           2.6\n",
      "Blackberries    2.0\n",
      "Pomegranate     1.7\n",
      "Name: protien, dtype: float64\n"
     ]
    }
   ],
   "source": [
    "#fetch values based on the conidtion\n",
    "#fetch all the fruits which has protien more than 1.5\n",
    "print(s2>1.5)\n",
    "print(\"\\n\")\n",
    "#i want only those which have protien more than 1.5g\n",
    "print(s2[s2>1.5])\n"
   ]
  },
  {
   "cell_type": "markdown",
   "id": "869f3fd5",
   "metadata": {},
   "source": [
    "logical operators"
   ]
  },
  {
   "cell_type": "code",
   "execution_count": null,
   "id": "90520ff3",
   "metadata": {},
   "outputs": [
    {
     "name": "stdout",
     "output_type": "stream",
     "text": [
      "Avocado         False\n",
      "Guava           False\n",
      "Blackberries    False\n",
      "Oranges         False\n",
      "Banana           True\n",
      "Apples          False\n",
      "Kiwi             True\n",
      "Pomegranate      True\n",
      "Mango           False\n",
      "Cherries        False\n",
      "Name: protien, dtype: bool\n",
      "\n",
      "\n",
      "Avocado         2.0\n",
      "Guava           2.6\n",
      "Blackberries    2.0\n",
      "Oranges         0.9\n",
      "Banana          1.1\n",
      "Apples          0.3\n",
      "Kiwi            1.1\n",
      "Pomegranate     1.7\n",
      "Mango           0.8\n",
      "Cherries        1.0\n",
      "Name: protien, dtype: float64\n"
     ]
    }
   ],
   "source": [
    "#logical operators\n",
    "#i want all the fruits which have protien more than 1g and less than 2g\n",
    "print((s2>1)&(s2<2))\n",
    "print(\"\\n\")\n",
    "print(s2[(s2>1)&(s2<=2)])"
   ]
  },
  {
   "cell_type": "markdown",
   "id": "7ed76cc7",
   "metadata": {},
   "source": [
    "modifiing the series"
   ]
  },
  {
   "cell_type": "code",
   "execution_count": null,
   "id": "0bc51a85",
   "metadata": {},
   "outputs": [
    {
     "name": "stdout",
     "output_type": "stream",
     "text": [
      "Avocado         2.0\n",
      "Guava           2.6\n",
      "Blackberries    2.0\n",
      "Oranges         0.9\n",
      "Banana          1.1\n",
      "Apples          0.3\n",
      "Kiwi            1.1\n",
      "Pomegranate     1.7\n",
      "Mango           0.8\n",
      "Cherries        1.0\n",
      "mango           3.0\n",
      "Name: protien, dtype: float64\n"
     ]
    }
   ],
   "source": [
    "s2[\"mango\"]=3\n",
    "print(s2)\n"
   ]
  },
  {
   "cell_type": "markdown",
   "id": "eff070aa",
   "metadata": {},
   "source": [
    "data frames"
   ]
  },
  {
   "cell_type": "code",
   "execution_count": 56,
   "id": "7bde1b9e",
   "metadata": {},
   "outputs": [
    {
     "name": "stdout",
     "output_type": "stream",
     "text": [
      "      Name   Age Department   Salary\n",
      "0    Alice  25.0         HR  50000.0\n",
      "1      Bob  30.0         IT  60000.0\n",
      "2  Charlie  35.0    Finance  70000.0\n",
      "3    David   NaN         IT  62000.0\n",
      "4      Eve  29.0         HR      NaN\n",
      "5    Alice  25.0         HR  50000.0\n"
     ]
    }
   ],
   "source": [
    "import numpy as np\n",
    "data = {\n",
    "    \"Name\": [\"Alice\", \"Bob\", \"Charlie\", \"David\", \"Eve\", \"Alice\"],\n",
    "    \"Age\": [25, 30, 35, np.nan, 29, 25],\n",
    "    \"Department\": [\"HR\", \"IT\", \"Finance\", \"IT\", \"HR\", \"HR\"],\n",
    "    \"Salary\": [50000, 60000, 70000, 62000, np.nan, 50000]\n",
    "}\n",
    "df=pd.DataFrame(data)\n",
    "print(df)"
   ]
  },
  {
   "cell_type": "code",
   "execution_count": 57,
   "id": "b9749322",
   "metadata": {},
   "outputs": [
    {
     "data": {
      "text/html": [
       "<div>\n",
       "<style scoped>\n",
       "    .dataframe tbody tr th:only-of-type {\n",
       "        vertical-align: middle;\n",
       "    }\n",
       "\n",
       "    .dataframe tbody tr th {\n",
       "        vertical-align: top;\n",
       "    }\n",
       "\n",
       "    .dataframe thead th {\n",
       "        text-align: right;\n",
       "    }\n",
       "</style>\n",
       "<table border=\"1\" class=\"dataframe\">\n",
       "  <thead>\n",
       "    <tr style=\"text-align: right;\">\n",
       "      <th></th>\n",
       "      <th>Name</th>\n",
       "      <th>Age</th>\n",
       "      <th>Department</th>\n",
       "      <th>Salary</th>\n",
       "    </tr>\n",
       "  </thead>\n",
       "  <tbody>\n",
       "    <tr>\n",
       "      <th>0</th>\n",
       "      <td>Alice</td>\n",
       "      <td>25.0</td>\n",
       "      <td>HR</td>\n",
       "      <td>50000.0</td>\n",
       "    </tr>\n",
       "    <tr>\n",
       "      <th>1</th>\n",
       "      <td>Bob</td>\n",
       "      <td>30.0</td>\n",
       "      <td>IT</td>\n",
       "      <td>60000.0</td>\n",
       "    </tr>\n",
       "  </tbody>\n",
       "</table>\n",
       "</div>"
      ],
      "text/plain": [
       "    Name   Age Department   Salary\n",
       "0  Alice  25.0         HR  50000.0\n",
       "1    Bob  30.0         IT  60000.0"
      ]
     },
     "execution_count": 57,
     "metadata": {},
     "output_type": "execute_result"
    }
   ],
   "source": [
    "df.head(2)"
   ]
  },
  {
   "cell_type": "code",
   "execution_count": 59,
   "id": "b12625ff",
   "metadata": {},
   "outputs": [
    {
     "data": {
      "text/html": [
       "<div>\n",
       "<style scoped>\n",
       "    .dataframe tbody tr th:only-of-type {\n",
       "        vertical-align: middle;\n",
       "    }\n",
       "\n",
       "    .dataframe tbody tr th {\n",
       "        vertical-align: top;\n",
       "    }\n",
       "\n",
       "    .dataframe thead th {\n",
       "        text-align: right;\n",
       "    }\n",
       "</style>\n",
       "<table border=\"1\" class=\"dataframe\">\n",
       "  <thead>\n",
       "    <tr style=\"text-align: right;\">\n",
       "      <th></th>\n",
       "      <th>Name</th>\n",
       "      <th>Age</th>\n",
       "      <th>Department</th>\n",
       "      <th>Salary</th>\n",
       "    </tr>\n",
       "  </thead>\n",
       "  <tbody>\n",
       "    <tr>\n",
       "      <th>3</th>\n",
       "      <td>David</td>\n",
       "      <td>NaN</td>\n",
       "      <td>IT</td>\n",
       "      <td>62000.0</td>\n",
       "    </tr>\n",
       "    <tr>\n",
       "      <th>4</th>\n",
       "      <td>Eve</td>\n",
       "      <td>29.0</td>\n",
       "      <td>HR</td>\n",
       "      <td>NaN</td>\n",
       "    </tr>\n",
       "    <tr>\n",
       "      <th>5</th>\n",
       "      <td>Alice</td>\n",
       "      <td>25.0</td>\n",
       "      <td>HR</td>\n",
       "      <td>50000.0</td>\n",
       "    </tr>\n",
       "  </tbody>\n",
       "</table>\n",
       "</div>"
      ],
      "text/plain": [
       "    Name   Age Department   Salary\n",
       "3  David   NaN         IT  62000.0\n",
       "4    Eve  29.0         HR      NaN\n",
       "5  Alice  25.0         HR  50000.0"
      ]
     },
     "execution_count": 59,
     "metadata": {},
     "output_type": "execute_result"
    }
   ],
   "source": [
    "df.tail(3)"
   ]
  },
  {
   "cell_type": "code",
   "execution_count": null,
   "id": "1d5c3a83",
   "metadata": {},
   "outputs": [
    {
     "data": {
      "text/html": [
       "<div>\n",
       "<style scoped>\n",
       "    .dataframe tbody tr th:only-of-type {\n",
       "        vertical-align: middle;\n",
       "    }\n",
       "\n",
       "    .dataframe tbody tr th {\n",
       "        vertical-align: top;\n",
       "    }\n",
       "\n",
       "    .dataframe thead th {\n",
       "        text-align: right;\n",
       "    }\n",
       "</style>\n",
       "<table border=\"1\" class=\"dataframe\">\n",
       "  <thead>\n",
       "    <tr style=\"text-align: right;\">\n",
       "      <th></th>\n",
       "      <th>Name</th>\n",
       "      <th>Age</th>\n",
       "      <th>Department</th>\n",
       "      <th>Salary</th>\n",
       "    </tr>\n",
       "  </thead>\n",
       "  <tbody>\n",
       "    <tr>\n",
       "      <th>1</th>\n",
       "      <td>Bob</td>\n",
       "      <td>30.0</td>\n",
       "      <td>IT</td>\n",
       "      <td>60000.0</td>\n",
       "    </tr>\n",
       "    <tr>\n",
       "      <th>2</th>\n",
       "      <td>Charlie</td>\n",
       "      <td>35.0</td>\n",
       "      <td>Finance</td>\n",
       "      <td>70000.0</td>\n",
       "    </tr>\n",
       "  </tbody>\n",
       "</table>\n",
       "</div>"
      ],
      "text/plain": [
       "      Name   Age Department   Salary\n",
       "1      Bob  30.0         IT  60000.0\n",
       "2  Charlie  35.0    Finance  70000.0"
      ]
     },
     "execution_count": 60,
     "metadata": {},
     "output_type": "execute_result"
    }
   ],
   "source": [
    "#loc and iloc function\n",
    "df.iloc[1:3]\n",
    "\n"
   ]
  },
  {
   "cell_type": "code",
   "execution_count": 61,
   "id": "67aaf4a1",
   "metadata": {},
   "outputs": [
    {
     "data": {
      "text/html": [
       "<div>\n",
       "<style scoped>\n",
       "    .dataframe tbody tr th:only-of-type {\n",
       "        vertical-align: middle;\n",
       "    }\n",
       "\n",
       "    .dataframe tbody tr th {\n",
       "        vertical-align: top;\n",
       "    }\n",
       "\n",
       "    .dataframe thead th {\n",
       "        text-align: right;\n",
       "    }\n",
       "</style>\n",
       "<table border=\"1\" class=\"dataframe\">\n",
       "  <thead>\n",
       "    <tr style=\"text-align: right;\">\n",
       "      <th></th>\n",
       "      <th>Age</th>\n",
       "      <th>Department</th>\n",
       "    </tr>\n",
       "  </thead>\n",
       "  <tbody>\n",
       "    <tr>\n",
       "      <th>1</th>\n",
       "      <td>30.0</td>\n",
       "      <td>IT</td>\n",
       "    </tr>\n",
       "    <tr>\n",
       "      <th>2</th>\n",
       "      <td>35.0</td>\n",
       "      <td>Finance</td>\n",
       "    </tr>\n",
       "    <tr>\n",
       "      <th>3</th>\n",
       "      <td>NaN</td>\n",
       "      <td>IT</td>\n",
       "    </tr>\n",
       "  </tbody>\n",
       "</table>\n",
       "</div>"
      ],
      "text/plain": [
       "    Age Department\n",
       "1  30.0         IT\n",
       "2  35.0    Finance\n",
       "3   NaN         IT"
      ]
     },
     "execution_count": 61,
     "metadata": {},
     "output_type": "execute_result"
    }
   ],
   "source": [
    "df.loc[1:3,[\"Age\",\"Department\"]]"
   ]
  },
  {
   "cell_type": "code",
   "execution_count": null,
   "id": "2d371fd7",
   "metadata": {},
   "outputs": [
    {
     "data": {
      "text/html": [
       "<div>\n",
       "<style scoped>\n",
       "    .dataframe tbody tr th:only-of-type {\n",
       "        vertical-align: middle;\n",
       "    }\n",
       "\n",
       "    .dataframe tbody tr th {\n",
       "        vertical-align: top;\n",
       "    }\n",
       "\n",
       "    .dataframe thead th {\n",
       "        text-align: right;\n",
       "    }\n",
       "</style>\n",
       "<table border=\"1\" class=\"dataframe\">\n",
       "  <thead>\n",
       "    <tr style=\"text-align: right;\">\n",
       "      <th></th>\n",
       "      <th>Name</th>\n",
       "      <th>Age</th>\n",
       "    </tr>\n",
       "  </thead>\n",
       "  <tbody>\n",
       "    <tr>\n",
       "      <th>1</th>\n",
       "      <td>Bob</td>\n",
       "      <td>30.0</td>\n",
       "    </tr>\n",
       "    <tr>\n",
       "      <th>2</th>\n",
       "      <td>Charlie</td>\n",
       "      <td>35.0</td>\n",
       "    </tr>\n",
       "  </tbody>\n",
       "</table>\n",
       "</div>"
      ],
      "text/plain": [
       "      Name   Age\n",
       "1      Bob  30.0\n",
       "2  Charlie  35.0"
      ]
     },
     "execution_count": 62,
     "metadata": {},
     "output_type": "execute_result"
    }
   ],
   "source": [
    "#u can also do using numbers\n",
    "df.iloc[1:3,:2] #rows #cols #range slicing"
   ]
  },
  {
   "cell_type": "code",
   "execution_count": 65,
   "id": "f463505e",
   "metadata": {},
   "outputs": [
    {
     "data": {
      "text/html": [
       "<div>\n",
       "<style scoped>\n",
       "    .dataframe tbody tr th:only-of-type {\n",
       "        vertical-align: middle;\n",
       "    }\n",
       "\n",
       "    .dataframe tbody tr th {\n",
       "        vertical-align: top;\n",
       "    }\n",
       "\n",
       "    .dataframe thead th {\n",
       "        text-align: right;\n",
       "    }\n",
       "</style>\n",
       "<table border=\"1\" class=\"dataframe\">\n",
       "  <thead>\n",
       "    <tr style=\"text-align: right;\">\n",
       "      <th></th>\n",
       "      <th>Age</th>\n",
       "      <th>Department</th>\n",
       "    </tr>\n",
       "  </thead>\n",
       "  <tbody>\n",
       "    <tr>\n",
       "      <th>0</th>\n",
       "      <td>25.0</td>\n",
       "      <td>HR</td>\n",
       "    </tr>\n",
       "    <tr>\n",
       "      <th>1</th>\n",
       "      <td>30.0</td>\n",
       "      <td>IT</td>\n",
       "    </tr>\n",
       "    <tr>\n",
       "      <th>2</th>\n",
       "      <td>35.0</td>\n",
       "      <td>Finance</td>\n",
       "    </tr>\n",
       "    <tr>\n",
       "      <th>3</th>\n",
       "      <td>NaN</td>\n",
       "      <td>IT</td>\n",
       "    </tr>\n",
       "    <tr>\n",
       "      <th>4</th>\n",
       "      <td>29.0</td>\n",
       "      <td>HR</td>\n",
       "    </tr>\n",
       "    <tr>\n",
       "      <th>5</th>\n",
       "      <td>25.0</td>\n",
       "      <td>HR</td>\n",
       "    </tr>\n",
       "  </tbody>\n",
       "</table>\n",
       "</div>"
      ],
      "text/plain": [
       "    Age Department\n",
       "0  25.0         HR\n",
       "1  30.0         IT\n",
       "2  35.0    Finance\n",
       "3   NaN         IT\n",
       "4  29.0         HR\n",
       "5  25.0         HR"
      ]
     },
     "execution_count": 65,
     "metadata": {},
     "output_type": "execute_result"
    }
   ],
   "source": [
    "#access individual cols\n",
    "df[[\"Age\",\"Department\"]]"
   ]
  },
  {
   "cell_type": "code",
   "execution_count": null,
   "id": "f0c3b7be",
   "metadata": {},
   "outputs": [
    {
     "data": {
      "text/html": [
       "<div>\n",
       "<style scoped>\n",
       "    .dataframe tbody tr th:only-of-type {\n",
       "        vertical-align: middle;\n",
       "    }\n",
       "\n",
       "    .dataframe tbody tr th {\n",
       "        vertical-align: top;\n",
       "    }\n",
       "\n",
       "    .dataframe thead th {\n",
       "        text-align: right;\n",
       "    }\n",
       "</style>\n",
       "<table border=\"1\" class=\"dataframe\">\n",
       "  <thead>\n",
       "    <tr style=\"text-align: right;\">\n",
       "      <th></th>\n",
       "      <th>Name</th>\n",
       "      <th>Department</th>\n",
       "      <th>Salary</th>\n",
       "    </tr>\n",
       "  </thead>\n",
       "  <tbody>\n",
       "    <tr>\n",
       "      <th>0</th>\n",
       "      <td>Alice</td>\n",
       "      <td>HR</td>\n",
       "      <td>50000.0</td>\n",
       "    </tr>\n",
       "    <tr>\n",
       "      <th>1</th>\n",
       "      <td>Bob</td>\n",
       "      <td>IT</td>\n",
       "      <td>60000.0</td>\n",
       "    </tr>\n",
       "    <tr>\n",
       "      <th>2</th>\n",
       "      <td>Charlie</td>\n",
       "      <td>Finance</td>\n",
       "      <td>70000.0</td>\n",
       "    </tr>\n",
       "    <tr>\n",
       "      <th>3</th>\n",
       "      <td>David</td>\n",
       "      <td>IT</td>\n",
       "      <td>62000.0</td>\n",
       "    </tr>\n",
       "    <tr>\n",
       "      <th>4</th>\n",
       "      <td>Eve</td>\n",
       "      <td>HR</td>\n",
       "      <td>NaN</td>\n",
       "    </tr>\n",
       "    <tr>\n",
       "      <th>5</th>\n",
       "      <td>Alice</td>\n",
       "      <td>HR</td>\n",
       "      <td>50000.0</td>\n",
       "    </tr>\n",
       "  </tbody>\n",
       "</table>\n",
       "</div>"
      ],
      "text/plain": [
       "      Name Department   Salary\n",
       "0    Alice         HR  50000.0\n",
       "1      Bob         IT  60000.0\n",
       "2  Charlie    Finance  70000.0\n",
       "3    David         IT  62000.0\n",
       "4      Eve         HR      NaN\n",
       "5    Alice         HR  50000.0"
      ]
     },
     "execution_count": 66,
     "metadata": {},
     "output_type": "execute_result"
    }
   ],
   "source": [
    "#removing the age col\n",
    "df.drop(\"Age\",axis=1)"
   ]
  },
  {
   "cell_type": "code",
   "execution_count": 67,
   "id": "e066a459",
   "metadata": {},
   "outputs": [
    {
     "data": {
      "text/html": [
       "<div>\n",
       "<style scoped>\n",
       "    .dataframe tbody tr th:only-of-type {\n",
       "        vertical-align: middle;\n",
       "    }\n",
       "\n",
       "    .dataframe tbody tr th {\n",
       "        vertical-align: top;\n",
       "    }\n",
       "\n",
       "    .dataframe thead th {\n",
       "        text-align: right;\n",
       "    }\n",
       "</style>\n",
       "<table border=\"1\" class=\"dataframe\">\n",
       "  <thead>\n",
       "    <tr style=\"text-align: right;\">\n",
       "      <th></th>\n",
       "      <th>Name</th>\n",
       "      <th>Age</th>\n",
       "      <th>Department</th>\n",
       "      <th>Salary</th>\n",
       "    </tr>\n",
       "  </thead>\n",
       "  <tbody>\n",
       "    <tr>\n",
       "      <th>0</th>\n",
       "      <td>Alice</td>\n",
       "      <td>25.0</td>\n",
       "      <td>HR</td>\n",
       "      <td>50000.0</td>\n",
       "    </tr>\n",
       "    <tr>\n",
       "      <th>1</th>\n",
       "      <td>Bob</td>\n",
       "      <td>30.0</td>\n",
       "      <td>IT</td>\n",
       "      <td>60000.0</td>\n",
       "    </tr>\n",
       "    <tr>\n",
       "      <th>2</th>\n",
       "      <td>Charlie</td>\n",
       "      <td>35.0</td>\n",
       "      <td>Finance</td>\n",
       "      <td>70000.0</td>\n",
       "    </tr>\n",
       "    <tr>\n",
       "      <th>3</th>\n",
       "      <td>David</td>\n",
       "      <td>NaN</td>\n",
       "      <td>IT</td>\n",
       "      <td>62000.0</td>\n",
       "    </tr>\n",
       "    <tr>\n",
       "      <th>4</th>\n",
       "      <td>Eve</td>\n",
       "      <td>29.0</td>\n",
       "      <td>HR</td>\n",
       "      <td>NaN</td>\n",
       "    </tr>\n",
       "    <tr>\n",
       "      <th>5</th>\n",
       "      <td>Alice</td>\n",
       "      <td>25.0</td>\n",
       "      <td>HR</td>\n",
       "      <td>50000.0</td>\n",
       "    </tr>\n",
       "  </tbody>\n",
       "</table>\n",
       "</div>"
      ],
      "text/plain": [
       "      Name   Age Department   Salary\n",
       "0    Alice  25.0         HR  50000.0\n",
       "1      Bob  30.0         IT  60000.0\n",
       "2  Charlie  35.0    Finance  70000.0\n",
       "3    David   NaN         IT  62000.0\n",
       "4      Eve  29.0         HR      NaN\n",
       "5    Alice  25.0         HR  50000.0"
      ]
     },
     "execution_count": 67,
     "metadata": {},
     "output_type": "execute_result"
    }
   ],
   "source": [
    "df"
   ]
  },
  {
   "cell_type": "code",
   "execution_count": 68,
   "id": "5a09c4f4",
   "metadata": {},
   "outputs": [
    {
     "data": {
      "text/plain": [
       "(6, 4)"
      ]
     },
     "execution_count": 68,
     "metadata": {},
     "output_type": "execute_result"
    }
   ],
   "source": [
    "df.shape"
   ]
  },
  {
   "cell_type": "code",
   "execution_count": 69,
   "id": "af4eea97",
   "metadata": {},
   "outputs": [
    {
     "data": {
      "text/plain": [
       "Name           object\n",
       "Age           float64\n",
       "Department     object\n",
       "Salary        float64\n",
       "dtype: object"
      ]
     },
     "execution_count": 69,
     "metadata": {},
     "output_type": "execute_result"
    }
   ],
   "source": [
    "df.dtypes"
   ]
  },
  {
   "cell_type": "code",
   "execution_count": 71,
   "id": "8e456489",
   "metadata": {},
   "outputs": [
    {
     "name": "stdout",
     "output_type": "stream",
     "text": [
      "<class 'pandas.core.frame.DataFrame'>\n",
      "RangeIndex: 6 entries, 0 to 5\n",
      "Data columns (total 4 columns):\n",
      " #   Column      Non-Null Count  Dtype  \n",
      "---  ------      --------------  -----  \n",
      " 0   Name        6 non-null      object \n",
      " 1   Age         5 non-null      float64\n",
      " 2   Department  6 non-null      object \n",
      " 3   Salary      5 non-null      float64\n",
      "dtypes: float64(2), object(2)\n",
      "memory usage: 324.0+ bytes\n"
     ]
    }
   ],
   "source": [
    "df.info()"
   ]
  },
  {
   "cell_type": "code",
   "execution_count": 72,
   "id": "c23ba919",
   "metadata": {},
   "outputs": [
    {
     "data": {
      "text/html": [
       "<div>\n",
       "<style scoped>\n",
       "    .dataframe tbody tr th:only-of-type {\n",
       "        vertical-align: middle;\n",
       "    }\n",
       "\n",
       "    .dataframe tbody tr th {\n",
       "        vertical-align: top;\n",
       "    }\n",
       "\n",
       "    .dataframe thead th {\n",
       "        text-align: right;\n",
       "    }\n",
       "</style>\n",
       "<table border=\"1\" class=\"dataframe\">\n",
       "  <thead>\n",
       "    <tr style=\"text-align: right;\">\n",
       "      <th></th>\n",
       "      <th>Age</th>\n",
       "      <th>Salary</th>\n",
       "    </tr>\n",
       "  </thead>\n",
       "  <tbody>\n",
       "    <tr>\n",
       "      <th>count</th>\n",
       "      <td>5.000000</td>\n",
       "      <td>5.000000</td>\n",
       "    </tr>\n",
       "    <tr>\n",
       "      <th>mean</th>\n",
       "      <td>28.800000</td>\n",
       "      <td>58400.000000</td>\n",
       "    </tr>\n",
       "    <tr>\n",
       "      <th>std</th>\n",
       "      <td>4.147288</td>\n",
       "      <td>8532.291603</td>\n",
       "    </tr>\n",
       "    <tr>\n",
       "      <th>min</th>\n",
       "      <td>25.000000</td>\n",
       "      <td>50000.000000</td>\n",
       "    </tr>\n",
       "    <tr>\n",
       "      <th>25%</th>\n",
       "      <td>25.000000</td>\n",
       "      <td>50000.000000</td>\n",
       "    </tr>\n",
       "    <tr>\n",
       "      <th>50%</th>\n",
       "      <td>29.000000</td>\n",
       "      <td>60000.000000</td>\n",
       "    </tr>\n",
       "    <tr>\n",
       "      <th>75%</th>\n",
       "      <td>30.000000</td>\n",
       "      <td>62000.000000</td>\n",
       "    </tr>\n",
       "    <tr>\n",
       "      <th>max</th>\n",
       "      <td>35.000000</td>\n",
       "      <td>70000.000000</td>\n",
       "    </tr>\n",
       "  </tbody>\n",
       "</table>\n",
       "</div>"
      ],
      "text/plain": [
       "             Age        Salary\n",
       "count   5.000000      5.000000\n",
       "mean   28.800000  58400.000000\n",
       "std     4.147288   8532.291603\n",
       "min    25.000000  50000.000000\n",
       "25%    25.000000  50000.000000\n",
       "50%    29.000000  60000.000000\n",
       "75%    30.000000  62000.000000\n",
       "max    35.000000  70000.000000"
      ]
     },
     "execution_count": 72,
     "metadata": {},
     "output_type": "execute_result"
    }
   ],
   "source": [
    "df.describe()"
   ]
  },
  {
   "cell_type": "markdown",
   "id": "b1b53247",
   "metadata": {},
   "source": [
    "broadcasting"
   ]
  },
  {
   "cell_type": "code",
   "execution_count": 80,
   "id": "6ee46b80",
   "metadata": {},
   "outputs": [],
   "source": [
    "#increase the salary of all the employees by 5000\n",
    "df[\"Salary\"]+=5000"
   ]
  },
  {
   "cell_type": "code",
   "execution_count": 81,
   "id": "34c259de",
   "metadata": {},
   "outputs": [
    {
     "data": {
      "text/plain": [
       "0    66000.0\n",
       "1    76000.0\n",
       "2    86000.0\n",
       "3    78000.0\n",
       "4        NaN\n",
       "5    66000.0\n",
       "Name: Salary, dtype: float64"
      ]
     },
     "execution_count": 81,
     "metadata": {},
     "output_type": "execute_result"
    }
   ],
   "source": [
    "df[\"Salary\"]"
   ]
  },
  {
   "cell_type": "code",
   "execution_count": 82,
   "id": "47da840d",
   "metadata": {},
   "outputs": [
    {
     "data": {
      "text/html": [
       "<div>\n",
       "<style scoped>\n",
       "    .dataframe tbody tr th:only-of-type {\n",
       "        vertical-align: middle;\n",
       "    }\n",
       "\n",
       "    .dataframe tbody tr th {\n",
       "        vertical-align: top;\n",
       "    }\n",
       "\n",
       "    .dataframe thead th {\n",
       "        text-align: right;\n",
       "    }\n",
       "</style>\n",
       "<table border=\"1\" class=\"dataframe\">\n",
       "  <thead>\n",
       "    <tr style=\"text-align: right;\">\n",
       "      <th></th>\n",
       "      <th>Name</th>\n",
       "      <th>Age</th>\n",
       "      <th>Department</th>\n",
       "      <th>Salary</th>\n",
       "    </tr>\n",
       "  </thead>\n",
       "  <tbody>\n",
       "    <tr>\n",
       "      <th>0</th>\n",
       "      <td>Alice</td>\n",
       "      <td>25.0</td>\n",
       "      <td>HR</td>\n",
       "      <td>66000.0</td>\n",
       "    </tr>\n",
       "    <tr>\n",
       "      <th>1</th>\n",
       "      <td>Bob</td>\n",
       "      <td>30.0</td>\n",
       "      <td>IT</td>\n",
       "      <td>76000.0</td>\n",
       "    </tr>\n",
       "    <tr>\n",
       "      <th>2</th>\n",
       "      <td>Charlie</td>\n",
       "      <td>35.0</td>\n",
       "      <td>Finance</td>\n",
       "      <td>86000.0</td>\n",
       "    </tr>\n",
       "    <tr>\n",
       "      <th>3</th>\n",
       "      <td>David</td>\n",
       "      <td>NaN</td>\n",
       "      <td>IT</td>\n",
       "      <td>78000.0</td>\n",
       "    </tr>\n",
       "    <tr>\n",
       "      <th>4</th>\n",
       "      <td>Eve</td>\n",
       "      <td>29.0</td>\n",
       "      <td>HR</td>\n",
       "      <td>NaN</td>\n",
       "    </tr>\n",
       "    <tr>\n",
       "      <th>5</th>\n",
       "      <td>Alice</td>\n",
       "      <td>25.0</td>\n",
       "      <td>HR</td>\n",
       "      <td>66000.0</td>\n",
       "    </tr>\n",
       "  </tbody>\n",
       "</table>\n",
       "</div>"
      ],
      "text/plain": [
       "      Name   Age Department   Salary\n",
       "0    Alice  25.0         HR  66000.0\n",
       "1      Bob  30.0         IT  76000.0\n",
       "2  Charlie  35.0    Finance  86000.0\n",
       "3    David   NaN         IT  78000.0\n",
       "4      Eve  29.0         HR      NaN\n",
       "5    Alice  25.0         HR  66000.0"
      ]
     },
     "execution_count": 82,
     "metadata": {},
     "output_type": "execute_result"
    }
   ],
   "source": [
    "df"
   ]
  },
  {
   "cell_type": "markdown",
   "id": "9cef508b",
   "metadata": {},
   "source": [
    "renaming the cols"
   ]
  },
  {
   "cell_type": "code",
   "execution_count": 83,
   "id": "d6ac6dc9",
   "metadata": {},
   "outputs": [],
   "source": [
    "df.rename(columns={\"Department\":\"dept\"},inplace=True)"
   ]
  },
  {
   "cell_type": "code",
   "execution_count": 84,
   "id": "15147239",
   "metadata": {},
   "outputs": [
    {
     "data": {
      "text/html": [
       "<div>\n",
       "<style scoped>\n",
       "    .dataframe tbody tr th:only-of-type {\n",
       "        vertical-align: middle;\n",
       "    }\n",
       "\n",
       "    .dataframe tbody tr th {\n",
       "        vertical-align: top;\n",
       "    }\n",
       "\n",
       "    .dataframe thead th {\n",
       "        text-align: right;\n",
       "    }\n",
       "</style>\n",
       "<table border=\"1\" class=\"dataframe\">\n",
       "  <thead>\n",
       "    <tr style=\"text-align: right;\">\n",
       "      <th></th>\n",
       "      <th>Name</th>\n",
       "      <th>Age</th>\n",
       "      <th>dept</th>\n",
       "      <th>Salary</th>\n",
       "    </tr>\n",
       "  </thead>\n",
       "  <tbody>\n",
       "    <tr>\n",
       "      <th>0</th>\n",
       "      <td>Alice</td>\n",
       "      <td>25.0</td>\n",
       "      <td>HR</td>\n",
       "      <td>66000.0</td>\n",
       "    </tr>\n",
       "    <tr>\n",
       "      <th>1</th>\n",
       "      <td>Bob</td>\n",
       "      <td>30.0</td>\n",
       "      <td>IT</td>\n",
       "      <td>76000.0</td>\n",
       "    </tr>\n",
       "    <tr>\n",
       "      <th>2</th>\n",
       "      <td>Charlie</td>\n",
       "      <td>35.0</td>\n",
       "      <td>Finance</td>\n",
       "      <td>86000.0</td>\n",
       "    </tr>\n",
       "    <tr>\n",
       "      <th>3</th>\n",
       "      <td>David</td>\n",
       "      <td>NaN</td>\n",
       "      <td>IT</td>\n",
       "      <td>78000.0</td>\n",
       "    </tr>\n",
       "    <tr>\n",
       "      <th>4</th>\n",
       "      <td>Eve</td>\n",
       "      <td>29.0</td>\n",
       "      <td>HR</td>\n",
       "      <td>NaN</td>\n",
       "    </tr>\n",
       "    <tr>\n",
       "      <th>5</th>\n",
       "      <td>Alice</td>\n",
       "      <td>25.0</td>\n",
       "      <td>HR</td>\n",
       "      <td>66000.0</td>\n",
       "    </tr>\n",
       "  </tbody>\n",
       "</table>\n",
       "</div>"
      ],
      "text/plain": [
       "      Name   Age     dept   Salary\n",
       "0    Alice  25.0       HR  66000.0\n",
       "1      Bob  30.0       IT  76000.0\n",
       "2  Charlie  35.0  Finance  86000.0\n",
       "3    David   NaN       IT  78000.0\n",
       "4      Eve  29.0       HR      NaN\n",
       "5    Alice  25.0       HR  66000.0"
      ]
     },
     "execution_count": 84,
     "metadata": {},
     "output_type": "execute_result"
    }
   ],
   "source": [
    "df"
   ]
  },
  {
   "cell_type": "code",
   "execution_count": 86,
   "id": "064b17e3",
   "metadata": {},
   "outputs": [
    {
     "data": {
      "text/plain": [
       "array(['HR', 'IT', 'Finance'], dtype=object)"
      ]
     },
     "execution_count": 86,
     "metadata": {},
     "output_type": "execute_result"
    }
   ],
   "source": [
    "df[\"dept\"].unique()"
   ]
  },
  {
   "cell_type": "code",
   "execution_count": 87,
   "id": "b08fd156",
   "metadata": {},
   "outputs": [
    {
     "data": {
      "text/plain": [
       "dept\n",
       "HR         3\n",
       "IT         2\n",
       "Finance    1\n",
       "Name: count, dtype: int64"
      ]
     },
     "execution_count": 87,
     "metadata": {},
     "output_type": "execute_result"
    }
   ],
   "source": [
    "df[\"dept\"].value_counts()"
   ]
  },
  {
   "cell_type": "code",
   "execution_count": 90,
   "id": "ebc02598",
   "metadata": {},
   "outputs": [],
   "source": [
    "df[\"promoted_salary\"]=df[\"Salary\"]*3"
   ]
  },
  {
   "cell_type": "code",
   "execution_count": 91,
   "id": "4cc1c3b3",
   "metadata": {},
   "outputs": [
    {
     "data": {
      "text/html": [
       "<div>\n",
       "<style scoped>\n",
       "    .dataframe tbody tr th:only-of-type {\n",
       "        vertical-align: middle;\n",
       "    }\n",
       "\n",
       "    .dataframe tbody tr th {\n",
       "        vertical-align: top;\n",
       "    }\n",
       "\n",
       "    .dataframe thead th {\n",
       "        text-align: right;\n",
       "    }\n",
       "</style>\n",
       "<table border=\"1\" class=\"dataframe\">\n",
       "  <thead>\n",
       "    <tr style=\"text-align: right;\">\n",
       "      <th></th>\n",
       "      <th>Name</th>\n",
       "      <th>Age</th>\n",
       "      <th>dept</th>\n",
       "      <th>Salary</th>\n",
       "      <th>promoted_salary</th>\n",
       "    </tr>\n",
       "  </thead>\n",
       "  <tbody>\n",
       "    <tr>\n",
       "      <th>0</th>\n",
       "      <td>Alice</td>\n",
       "      <td>25.0</td>\n",
       "      <td>HR</td>\n",
       "      <td>66000.0</td>\n",
       "      <td>198000.0</td>\n",
       "    </tr>\n",
       "    <tr>\n",
       "      <th>1</th>\n",
       "      <td>Bob</td>\n",
       "      <td>30.0</td>\n",
       "      <td>IT</td>\n",
       "      <td>76000.0</td>\n",
       "      <td>228000.0</td>\n",
       "    </tr>\n",
       "    <tr>\n",
       "      <th>2</th>\n",
       "      <td>Charlie</td>\n",
       "      <td>35.0</td>\n",
       "      <td>Finance</td>\n",
       "      <td>86000.0</td>\n",
       "      <td>258000.0</td>\n",
       "    </tr>\n",
       "    <tr>\n",
       "      <th>3</th>\n",
       "      <td>David</td>\n",
       "      <td>NaN</td>\n",
       "      <td>IT</td>\n",
       "      <td>78000.0</td>\n",
       "      <td>234000.0</td>\n",
       "    </tr>\n",
       "    <tr>\n",
       "      <th>4</th>\n",
       "      <td>Eve</td>\n",
       "      <td>29.0</td>\n",
       "      <td>HR</td>\n",
       "      <td>NaN</td>\n",
       "      <td>NaN</td>\n",
       "    </tr>\n",
       "    <tr>\n",
       "      <th>5</th>\n",
       "      <td>Alice</td>\n",
       "      <td>25.0</td>\n",
       "      <td>HR</td>\n",
       "      <td>66000.0</td>\n",
       "      <td>198000.0</td>\n",
       "    </tr>\n",
       "  </tbody>\n",
       "</table>\n",
       "</div>"
      ],
      "text/plain": [
       "      Name   Age     dept   Salary  promoted_salary\n",
       "0    Alice  25.0       HR  66000.0         198000.0\n",
       "1      Bob  30.0       IT  76000.0         228000.0\n",
       "2  Charlie  35.0  Finance  86000.0         258000.0\n",
       "3    David   NaN       IT  78000.0         234000.0\n",
       "4      Eve  29.0       HR      NaN              NaN\n",
       "5    Alice  25.0       HR  66000.0         198000.0"
      ]
     },
     "execution_count": 91,
     "metadata": {},
     "output_type": "execute_result"
    }
   ],
   "source": [
    "df"
   ]
  },
  {
   "cell_type": "markdown",
   "id": "1ec4da58",
   "metadata": {},
   "source": [
    "datacleaning"
   ]
  },
  {
   "cell_type": "code",
   "execution_count": null,
   "id": "87195477",
   "metadata": {},
   "outputs": [
    {
     "data": {
      "text/plain": [
       "Name               0\n",
       "Age                1\n",
       "dept               0\n",
       "Salary             1\n",
       "promoted_salary    1\n",
       "dtype: int64"
      ]
     },
     "execution_count": 92,
     "metadata": {},
     "output_type": "execute_result"
    }
   ],
   "source": [
    "df.isnull().sum()\n"
   ]
  },
  {
   "cell_type": "code",
   "execution_count": null,
   "id": "d8384a73",
   "metadata": {},
   "outputs": [
    {
     "data": {
      "text/html": [
       "<div>\n",
       "<style scoped>\n",
       "    .dataframe tbody tr th:only-of-type {\n",
       "        vertical-align: middle;\n",
       "    }\n",
       "\n",
       "    .dataframe tbody tr th {\n",
       "        vertical-align: top;\n",
       "    }\n",
       "\n",
       "    .dataframe thead th {\n",
       "        text-align: right;\n",
       "    }\n",
       "</style>\n",
       "<table border=\"1\" class=\"dataframe\">\n",
       "  <thead>\n",
       "    <tr style=\"text-align: right;\">\n",
       "      <th></th>\n",
       "      <th>Name</th>\n",
       "      <th>Age</th>\n",
       "      <th>dept</th>\n",
       "      <th>Salary</th>\n",
       "      <th>promoted_salary</th>\n",
       "    </tr>\n",
       "  </thead>\n",
       "  <tbody>\n",
       "    <tr>\n",
       "      <th>0</th>\n",
       "      <td>Alice</td>\n",
       "      <td>25.0</td>\n",
       "      <td>HR</td>\n",
       "      <td>66000.0</td>\n",
       "      <td>198000.0</td>\n",
       "    </tr>\n",
       "    <tr>\n",
       "      <th>1</th>\n",
       "      <td>Bob</td>\n",
       "      <td>30.0</td>\n",
       "      <td>IT</td>\n",
       "      <td>76000.0</td>\n",
       "      <td>228000.0</td>\n",
       "    </tr>\n",
       "    <tr>\n",
       "      <th>2</th>\n",
       "      <td>Charlie</td>\n",
       "      <td>35.0</td>\n",
       "      <td>Finance</td>\n",
       "      <td>86000.0</td>\n",
       "      <td>258000.0</td>\n",
       "    </tr>\n",
       "    <tr>\n",
       "      <th>5</th>\n",
       "      <td>Alice</td>\n",
       "      <td>25.0</td>\n",
       "      <td>HR</td>\n",
       "      <td>66000.0</td>\n",
       "      <td>198000.0</td>\n",
       "    </tr>\n",
       "  </tbody>\n",
       "</table>\n",
       "</div>"
      ],
      "text/plain": [
       "      Name   Age     dept   Salary  promoted_salary\n",
       "0    Alice  25.0       HR  66000.0         198000.0\n",
       "1      Bob  30.0       IT  76000.0         228000.0\n",
       "2  Charlie  35.0  Finance  86000.0         258000.0\n",
       "5    Alice  25.0       HR  66000.0         198000.0"
      ]
     },
     "execution_count": 95,
     "metadata": {},
     "output_type": "execute_result"
    }
   ],
   "source": [
    "df.dropna(how=\"any\") #what ever row has any nan or null value"
   ]
  },
  {
   "cell_type": "code",
   "execution_count": 96,
   "id": "c051cc14",
   "metadata": {},
   "outputs": [
    {
     "data": {
      "text/html": [
       "<div>\n",
       "<style scoped>\n",
       "    .dataframe tbody tr th:only-of-type {\n",
       "        vertical-align: middle;\n",
       "    }\n",
       "\n",
       "    .dataframe tbody tr th {\n",
       "        vertical-align: top;\n",
       "    }\n",
       "\n",
       "    .dataframe thead th {\n",
       "        text-align: right;\n",
       "    }\n",
       "</style>\n",
       "<table border=\"1\" class=\"dataframe\">\n",
       "  <thead>\n",
       "    <tr style=\"text-align: right;\">\n",
       "      <th></th>\n",
       "      <th>Name</th>\n",
       "      <th>Age</th>\n",
       "      <th>dept</th>\n",
       "      <th>Salary</th>\n",
       "      <th>promoted_salary</th>\n",
       "    </tr>\n",
       "  </thead>\n",
       "  <tbody>\n",
       "    <tr>\n",
       "      <th>0</th>\n",
       "      <td>Alice</td>\n",
       "      <td>25.0</td>\n",
       "      <td>HR</td>\n",
       "      <td>66000.0</td>\n",
       "      <td>198000.0</td>\n",
       "    </tr>\n",
       "    <tr>\n",
       "      <th>1</th>\n",
       "      <td>Bob</td>\n",
       "      <td>30.0</td>\n",
       "      <td>IT</td>\n",
       "      <td>76000.0</td>\n",
       "      <td>228000.0</td>\n",
       "    </tr>\n",
       "    <tr>\n",
       "      <th>2</th>\n",
       "      <td>Charlie</td>\n",
       "      <td>35.0</td>\n",
       "      <td>Finance</td>\n",
       "      <td>86000.0</td>\n",
       "      <td>258000.0</td>\n",
       "    </tr>\n",
       "    <tr>\n",
       "      <th>3</th>\n",
       "      <td>David</td>\n",
       "      <td>NaN</td>\n",
       "      <td>IT</td>\n",
       "      <td>78000.0</td>\n",
       "      <td>234000.0</td>\n",
       "    </tr>\n",
       "    <tr>\n",
       "      <th>4</th>\n",
       "      <td>Eve</td>\n",
       "      <td>29.0</td>\n",
       "      <td>HR</td>\n",
       "      <td>NaN</td>\n",
       "      <td>NaN</td>\n",
       "    </tr>\n",
       "    <tr>\n",
       "      <th>5</th>\n",
       "      <td>Alice</td>\n",
       "      <td>25.0</td>\n",
       "      <td>HR</td>\n",
       "      <td>66000.0</td>\n",
       "      <td>198000.0</td>\n",
       "    </tr>\n",
       "  </tbody>\n",
       "</table>\n",
       "</div>"
      ],
      "text/plain": [
       "      Name   Age     dept   Salary  promoted_salary\n",
       "0    Alice  25.0       HR  66000.0         198000.0\n",
       "1      Bob  30.0       IT  76000.0         228000.0\n",
       "2  Charlie  35.0  Finance  86000.0         258000.0\n",
       "3    David   NaN       IT  78000.0         234000.0\n",
       "4      Eve  29.0       HR      NaN              NaN\n",
       "5    Alice  25.0       HR  66000.0         198000.0"
      ]
     },
     "execution_count": 96,
     "metadata": {},
     "output_type": "execute_result"
    }
   ],
   "source": [
    "df"
   ]
  },
  {
   "cell_type": "code",
   "execution_count": null,
   "id": "50b0a9c2",
   "metadata": {},
   "outputs": [
    {
     "data": {
      "text/html": [
       "<div>\n",
       "<style scoped>\n",
       "    .dataframe tbody tr th:only-of-type {\n",
       "        vertical-align: middle;\n",
       "    }\n",
       "\n",
       "    .dataframe tbody tr th {\n",
       "        vertical-align: top;\n",
       "    }\n",
       "\n",
       "    .dataframe thead th {\n",
       "        text-align: right;\n",
       "    }\n",
       "</style>\n",
       "<table border=\"1\" class=\"dataframe\">\n",
       "  <thead>\n",
       "    <tr style=\"text-align: right;\">\n",
       "      <th></th>\n",
       "      <th>Name</th>\n",
       "      <th>Age</th>\n",
       "      <th>dept</th>\n",
       "      <th>Salary</th>\n",
       "      <th>promoted_salary</th>\n",
       "    </tr>\n",
       "  </thead>\n",
       "  <tbody>\n",
       "    <tr>\n",
       "      <th>0</th>\n",
       "      <td>Alice</td>\n",
       "      <td>25.0</td>\n",
       "      <td>HR</td>\n",
       "      <td>66000.0</td>\n",
       "      <td>198000.0</td>\n",
       "    </tr>\n",
       "    <tr>\n",
       "      <th>1</th>\n",
       "      <td>Bob</td>\n",
       "      <td>30.0</td>\n",
       "      <td>IT</td>\n",
       "      <td>76000.0</td>\n",
       "      <td>228000.0</td>\n",
       "    </tr>\n",
       "    <tr>\n",
       "      <th>2</th>\n",
       "      <td>Charlie</td>\n",
       "      <td>35.0</td>\n",
       "      <td>Finance</td>\n",
       "      <td>86000.0</td>\n",
       "      <td>258000.0</td>\n",
       "    </tr>\n",
       "    <tr>\n",
       "      <th>3</th>\n",
       "      <td>David</td>\n",
       "      <td>NaN</td>\n",
       "      <td>IT</td>\n",
       "      <td>78000.0</td>\n",
       "      <td>234000.0</td>\n",
       "    </tr>\n",
       "    <tr>\n",
       "      <th>4</th>\n",
       "      <td>Eve</td>\n",
       "      <td>29.0</td>\n",
       "      <td>HR</td>\n",
       "      <td>NaN</td>\n",
       "      <td>NaN</td>\n",
       "    </tr>\n",
       "    <tr>\n",
       "      <th>5</th>\n",
       "      <td>Alice</td>\n",
       "      <td>25.0</td>\n",
       "      <td>HR</td>\n",
       "      <td>66000.0</td>\n",
       "      <td>198000.0</td>\n",
       "    </tr>\n",
       "  </tbody>\n",
       "</table>\n",
       "</div>"
      ],
      "text/plain": [
       "      Name   Age     dept   Salary  promoted_salary\n",
       "0    Alice  25.0       HR  66000.0         198000.0\n",
       "1      Bob  30.0       IT  76000.0         228000.0\n",
       "2  Charlie  35.0  Finance  86000.0         258000.0\n",
       "3    David   NaN       IT  78000.0         234000.0\n",
       "4      Eve  29.0       HR      NaN              NaN\n",
       "5    Alice  25.0       HR  66000.0         198000.0"
      ]
     },
     "execution_count": 97,
     "metadata": {},
     "output_type": "execute_result"
    }
   ],
   "source": [
    "df.dropna(how=\"all\") #drop if all the values are null or nan"
   ]
  },
  {
   "cell_type": "code",
   "execution_count": null,
   "id": "4e7968b8",
   "metadata": {},
   "outputs": [
    {
     "data": {
      "text/plain": [
       "0    66000.0\n",
       "1    76000.0\n",
       "2    86000.0\n",
       "3    78000.0\n",
       "4    76000.0\n",
       "5    66000.0\n",
       "Name: Salary, dtype: float64"
      ]
     },
     "execution_count": 108,
     "metadata": {},
     "output_type": "execute_result"
    }
   ],
   "source": [
    "#get rid of the missing values or fill those null values with most repeated values or average \n",
    "\n",
    "\n",
    "df[\"Age\"].fillna(df[\"Age\"].mean())\n",
    "df[\"Salary\"].fillna(df[\"Salary\"].median())\n",
    "\n",
    "#FORWARD FILL AND BACKWARD FILL \n",
    "\n",
    "\n",
    "\n"
   ]
  },
  {
   "cell_type": "code",
   "execution_count": 109,
   "id": "67d7a8ab",
   "metadata": {},
   "outputs": [
    {
     "name": "stderr",
     "output_type": "stream",
     "text": [
      "C:\\Users\\kiran\\AppData\\Local\\Temp\\ipykernel_116776\\310954073.py:1: FutureWarning: Series.fillna with 'method' is deprecated and will raise in a future version. Use obj.ffill() or obj.bfill() instead.\n",
      "  df[\"Age\"].fillna(method=\"ffill\")\n"
     ]
    },
    {
     "data": {
      "text/plain": [
       "0    25.0\n",
       "1    30.0\n",
       "2    35.0\n",
       "3    35.0\n",
       "4    29.0\n",
       "5    25.0\n",
       "Name: Age, dtype: float64"
      ]
     },
     "execution_count": 109,
     "metadata": {},
     "output_type": "execute_result"
    }
   ],
   "source": [
    "df[\"Age\"].fillna(method=\"ffill\")"
   ]
  },
  {
   "cell_type": "code",
   "execution_count": 110,
   "id": "7dbed3dc",
   "metadata": {},
   "outputs": [
    {
     "name": "stderr",
     "output_type": "stream",
     "text": [
      "C:\\Users\\kiran\\AppData\\Local\\Temp\\ipykernel_116776\\3345892411.py:1: FutureWarning: Series.fillna with 'method' is deprecated and will raise in a future version. Use obj.ffill() or obj.bfill() instead.\n",
      "  df[\"Age\"].fillna(method=\"bfill\")\n"
     ]
    },
    {
     "data": {
      "text/plain": [
       "0    25.0\n",
       "1    30.0\n",
       "2    35.0\n",
       "3    29.0\n",
       "4    29.0\n",
       "5    25.0\n",
       "Name: Age, dtype: float64"
      ]
     },
     "execution_count": 110,
     "metadata": {},
     "output_type": "execute_result"
    }
   ],
   "source": [
    "df[\"Age\"].fillna(method=\"bfill\")"
   ]
  },
  {
   "cell_type": "code",
   "execution_count": 112,
   "id": "891bccca",
   "metadata": {},
   "outputs": [],
   "source": [
    "# replace values\n",
    "# randomly replace charlie aith kiran/\n",
    "df[\"Name\"]=df[\"Name\"].replace(\"Charlie\",\"kiran\")"
   ]
  },
  {
   "cell_type": "code",
   "execution_count": 119,
   "id": "26d64064",
   "metadata": {},
   "outputs": [
    {
     "data": {
      "text/html": [
       "<div>\n",
       "<style scoped>\n",
       "    .dataframe tbody tr th:only-of-type {\n",
       "        vertical-align: middle;\n",
       "    }\n",
       "\n",
       "    .dataframe tbody tr th {\n",
       "        vertical-align: top;\n",
       "    }\n",
       "\n",
       "    .dataframe thead th {\n",
       "        text-align: right;\n",
       "    }\n",
       "</style>\n",
       "<table border=\"1\" class=\"dataframe\">\n",
       "  <thead>\n",
       "    <tr style=\"text-align: right;\">\n",
       "      <th></th>\n",
       "      <th>Name</th>\n",
       "      <th>Age</th>\n",
       "      <th>dept</th>\n",
       "      <th>Salary</th>\n",
       "      <th>promoted_salary</th>\n",
       "    </tr>\n",
       "  </thead>\n",
       "  <tbody>\n",
       "    <tr>\n",
       "      <th>5</th>\n",
       "      <td>Alice</td>\n",
       "      <td>25.0</td>\n",
       "      <td>HR</td>\n",
       "      <td>66000.0</td>\n",
       "      <td>198000.0</td>\n",
       "    </tr>\n",
       "  </tbody>\n",
       "</table>\n",
       "</div>"
      ],
      "text/plain": [
       "    Name   Age dept   Salary  promoted_salary\n",
       "5  Alice  25.0   HR  66000.0         198000.0"
      ]
     },
     "execution_count": 119,
     "metadata": {},
     "output_type": "execute_result"
    }
   ],
   "source": [
    "#dealing with duplicate values\n",
    "# alice is twice\n",
    "df_dup=df[df.duplicated(keep=\"first\")]\n",
    "df_dup\n"
   ]
  },
  {
   "cell_type": "code",
   "execution_count": 121,
   "id": "1b7deafb",
   "metadata": {},
   "outputs": [
    {
     "data": {
      "text/html": [
       "<div>\n",
       "<style scoped>\n",
       "    .dataframe tbody tr th:only-of-type {\n",
       "        vertical-align: middle;\n",
       "    }\n",
       "\n",
       "    .dataframe tbody tr th {\n",
       "        vertical-align: top;\n",
       "    }\n",
       "\n",
       "    .dataframe thead th {\n",
       "        text-align: right;\n",
       "    }\n",
       "</style>\n",
       "<table border=\"1\" class=\"dataframe\">\n",
       "  <thead>\n",
       "    <tr style=\"text-align: right;\">\n",
       "      <th></th>\n",
       "      <th>Name</th>\n",
       "      <th>Age</th>\n",
       "      <th>dept</th>\n",
       "      <th>Salary</th>\n",
       "      <th>promoted_salary</th>\n",
       "    </tr>\n",
       "  </thead>\n",
       "  <tbody>\n",
       "    <tr>\n",
       "      <th>0</th>\n",
       "      <td>Alice</td>\n",
       "      <td>25.0</td>\n",
       "      <td>HR</td>\n",
       "      <td>66000.0</td>\n",
       "      <td>198000.0</td>\n",
       "    </tr>\n",
       "    <tr>\n",
       "      <th>1</th>\n",
       "      <td>Bob</td>\n",
       "      <td>30.0</td>\n",
       "      <td>IT</td>\n",
       "      <td>76000.0</td>\n",
       "      <td>228000.0</td>\n",
       "    </tr>\n",
       "    <tr>\n",
       "      <th>2</th>\n",
       "      <td>kiran</td>\n",
       "      <td>35.0</td>\n",
       "      <td>Finance</td>\n",
       "      <td>86000.0</td>\n",
       "      <td>258000.0</td>\n",
       "    </tr>\n",
       "    <tr>\n",
       "      <th>3</th>\n",
       "      <td>David</td>\n",
       "      <td>NaN</td>\n",
       "      <td>IT</td>\n",
       "      <td>78000.0</td>\n",
       "      <td>234000.0</td>\n",
       "    </tr>\n",
       "    <tr>\n",
       "      <th>4</th>\n",
       "      <td>Eve</td>\n",
       "      <td>29.0</td>\n",
       "      <td>HR</td>\n",
       "      <td>NaN</td>\n",
       "      <td>NaN</td>\n",
       "    </tr>\n",
       "  </tbody>\n",
       "</table>\n",
       "</div>"
      ],
      "text/plain": [
       "    Name   Age     dept   Salary  promoted_salary\n",
       "0  Alice  25.0       HR  66000.0         198000.0\n",
       "1    Bob  30.0       IT  76000.0         228000.0\n",
       "2  kiran  35.0  Finance  86000.0         258000.0\n",
       "3  David   NaN       IT  78000.0         234000.0\n",
       "4    Eve  29.0       HR      NaN              NaN"
      ]
     },
     "execution_count": 121,
     "metadata": {},
     "output_type": "execute_result"
    }
   ],
   "source": [
    "df=df.drop_duplicates()\n",
    "df"
   ]
  },
  {
   "cell_type": "code",
   "execution_count": 125,
   "id": "c093e71e",
   "metadata": {},
   "outputs": [
    {
     "data": {
      "text/html": [
       "<div>\n",
       "<style scoped>\n",
       "    .dataframe tbody tr th:only-of-type {\n",
       "        vertical-align: middle;\n",
       "    }\n",
       "\n",
       "    .dataframe tbody tr th {\n",
       "        vertical-align: top;\n",
       "    }\n",
       "\n",
       "    .dataframe thead th {\n",
       "        text-align: right;\n",
       "    }\n",
       "</style>\n",
       "<table border=\"1\" class=\"dataframe\">\n",
       "  <thead>\n",
       "    <tr style=\"text-align: right;\">\n",
       "      <th></th>\n",
       "      <th>Name</th>\n",
       "      <th>Age</th>\n",
       "      <th>dept</th>\n",
       "      <th>Salary</th>\n",
       "      <th>promoted_salary</th>\n",
       "    </tr>\n",
       "  </thead>\n",
       "  <tbody>\n",
       "    <tr>\n",
       "      <th>0</th>\n",
       "      <td>Alice</td>\n",
       "      <td>25.0</td>\n",
       "      <td>HR</td>\n",
       "      <td>66000.0</td>\n",
       "      <td>19800.0</td>\n",
       "    </tr>\n",
       "    <tr>\n",
       "      <th>1</th>\n",
       "      <td>Bob</td>\n",
       "      <td>30.0</td>\n",
       "      <td>IT</td>\n",
       "      <td>76000.0</td>\n",
       "      <td>22800.0</td>\n",
       "    </tr>\n",
       "    <tr>\n",
       "      <th>2</th>\n",
       "      <td>kiran</td>\n",
       "      <td>35.0</td>\n",
       "      <td>Finance</td>\n",
       "      <td>86000.0</td>\n",
       "      <td>25800.0</td>\n",
       "    </tr>\n",
       "    <tr>\n",
       "      <th>3</th>\n",
       "      <td>David</td>\n",
       "      <td>NaN</td>\n",
       "      <td>IT</td>\n",
       "      <td>78000.0</td>\n",
       "      <td>23400.0</td>\n",
       "    </tr>\n",
       "    <tr>\n",
       "      <th>4</th>\n",
       "      <td>Eve</td>\n",
       "      <td>29.0</td>\n",
       "      <td>HR</td>\n",
       "      <td>NaN</td>\n",
       "      <td>NaN</td>\n",
       "    </tr>\n",
       "  </tbody>\n",
       "</table>\n",
       "</div>"
      ],
      "text/plain": [
       "    Name   Age     dept   Salary  promoted_salary\n",
       "0  Alice  25.0       HR  66000.0          19800.0\n",
       "1    Bob  30.0       IT  76000.0          22800.0\n",
       "2  kiran  35.0  Finance  86000.0          25800.0\n",
       "3  David   NaN       IT  78000.0          23400.0\n",
       "4    Eve  29.0       HR      NaN              NaN"
      ]
     },
     "execution_count": 125,
     "metadata": {},
     "output_type": "execute_result"
    }
   ],
   "source": [
    "#dealing with invalid values\n",
    "#lamda impoertant\n",
    "\n",
    "df[\"promoted_salary\"]=df[\"promoted_salary\"].apply(lambda x: x/10 if x>60000 else x)\n",
    "df\n"
   ]
  },
  {
   "cell_type": "code",
   "execution_count": null,
   "id": "25382520",
   "metadata": {},
   "outputs": [],
   "source": [
    "#string functions\n",
    "# name=\"kiran Ghosh\"\n",
    "# df[[\"firstname\",\"lastname\"]]=df[\"name\"].str.split(\" \")"
   ]
  },
  {
   "cell_type": "code",
   "execution_count": 126,
   "id": "98efad5f",
   "metadata": {},
   "outputs": [],
   "source": [
    "#more about apply and lambda\n",
    "def multiply_age(x):\n",
    "    return x*2\n",
    "\n",
    "df[\"Age\"]=df[\"Age\"].apply(multiply_age)"
   ]
  },
  {
   "cell_type": "code",
   "execution_count": 127,
   "id": "f7be2c9c",
   "metadata": {},
   "outputs": [
    {
     "data": {
      "text/html": [
       "<div>\n",
       "<style scoped>\n",
       "    .dataframe tbody tr th:only-of-type {\n",
       "        vertical-align: middle;\n",
       "    }\n",
       "\n",
       "    .dataframe tbody tr th {\n",
       "        vertical-align: top;\n",
       "    }\n",
       "\n",
       "    .dataframe thead th {\n",
       "        text-align: right;\n",
       "    }\n",
       "</style>\n",
       "<table border=\"1\" class=\"dataframe\">\n",
       "  <thead>\n",
       "    <tr style=\"text-align: right;\">\n",
       "      <th></th>\n",
       "      <th>Name</th>\n",
       "      <th>Age</th>\n",
       "      <th>dept</th>\n",
       "      <th>Salary</th>\n",
       "      <th>promoted_salary</th>\n",
       "    </tr>\n",
       "  </thead>\n",
       "  <tbody>\n",
       "    <tr>\n",
       "      <th>0</th>\n",
       "      <td>Alice</td>\n",
       "      <td>50.0</td>\n",
       "      <td>HR</td>\n",
       "      <td>66000.0</td>\n",
       "      <td>19800.0</td>\n",
       "    </tr>\n",
       "    <tr>\n",
       "      <th>1</th>\n",
       "      <td>Bob</td>\n",
       "      <td>60.0</td>\n",
       "      <td>IT</td>\n",
       "      <td>76000.0</td>\n",
       "      <td>22800.0</td>\n",
       "    </tr>\n",
       "    <tr>\n",
       "      <th>2</th>\n",
       "      <td>kiran</td>\n",
       "      <td>70.0</td>\n",
       "      <td>Finance</td>\n",
       "      <td>86000.0</td>\n",
       "      <td>25800.0</td>\n",
       "    </tr>\n",
       "    <tr>\n",
       "      <th>3</th>\n",
       "      <td>David</td>\n",
       "      <td>NaN</td>\n",
       "      <td>IT</td>\n",
       "      <td>78000.0</td>\n",
       "      <td>23400.0</td>\n",
       "    </tr>\n",
       "    <tr>\n",
       "      <th>4</th>\n",
       "      <td>Eve</td>\n",
       "      <td>58.0</td>\n",
       "      <td>HR</td>\n",
       "      <td>NaN</td>\n",
       "      <td>NaN</td>\n",
       "    </tr>\n",
       "  </tbody>\n",
       "</table>\n",
       "</div>"
      ],
      "text/plain": [
       "    Name   Age     dept   Salary  promoted_salary\n",
       "0  Alice  50.0       HR  66000.0          19800.0\n",
       "1    Bob  60.0       IT  76000.0          22800.0\n",
       "2  kiran  70.0  Finance  86000.0          25800.0\n",
       "3  David   NaN       IT  78000.0          23400.0\n",
       "4    Eve  58.0       HR      NaN              NaN"
      ]
     },
     "execution_count": 127,
     "metadata": {},
     "output_type": "execute_result"
    }
   ],
   "source": [
    "df"
   ]
  },
  {
   "cell_type": "code",
   "execution_count": null,
   "id": "b40744e5",
   "metadata": {},
   "outputs": [],
   "source": [
    "df[\"Age\"]=df[\"Age\"].apply(lambda x: x/2)\n"
   ]
  },
  {
   "cell_type": "code",
   "execution_count": 140,
   "id": "bbe56c1d",
   "metadata": {},
   "outputs": [
    {
     "data": {
      "text/html": [
       "<div>\n",
       "<style scoped>\n",
       "    .dataframe tbody tr th:only-of-type {\n",
       "        vertical-align: middle;\n",
       "    }\n",
       "\n",
       "    .dataframe tbody tr th {\n",
       "        vertical-align: top;\n",
       "    }\n",
       "\n",
       "    .dataframe thead th {\n",
       "        text-align: right;\n",
       "    }\n",
       "</style>\n",
       "<table border=\"1\" class=\"dataframe\">\n",
       "  <thead>\n",
       "    <tr style=\"text-align: right;\">\n",
       "      <th></th>\n",
       "      <th>Name</th>\n",
       "      <th>Age</th>\n",
       "      <th>dept</th>\n",
       "      <th>Salary</th>\n",
       "      <th>promoted_salary</th>\n",
       "    </tr>\n",
       "  </thead>\n",
       "  <tbody>\n",
       "    <tr>\n",
       "      <th>0</th>\n",
       "      <td>Alice</td>\n",
       "      <td>25.0</td>\n",
       "      <td>HR</td>\n",
       "      <td>66000.0</td>\n",
       "      <td>19800.0</td>\n",
       "    </tr>\n",
       "    <tr>\n",
       "      <th>1</th>\n",
       "      <td>Bob</td>\n",
       "      <td>30.0</td>\n",
       "      <td>IT</td>\n",
       "      <td>76000.0</td>\n",
       "      <td>22800.0</td>\n",
       "    </tr>\n",
       "    <tr>\n",
       "      <th>2</th>\n",
       "      <td>kiran</td>\n",
       "      <td>35.0</td>\n",
       "      <td>Finance</td>\n",
       "      <td>86000.0</td>\n",
       "      <td>25800.0</td>\n",
       "    </tr>\n",
       "    <tr>\n",
       "      <th>3</th>\n",
       "      <td>David</td>\n",
       "      <td>NaN</td>\n",
       "      <td>IT</td>\n",
       "      <td>78000.0</td>\n",
       "      <td>23400.0</td>\n",
       "    </tr>\n",
       "    <tr>\n",
       "      <th>4</th>\n",
       "      <td>Eve</td>\n",
       "      <td>29.0</td>\n",
       "      <td>HR</td>\n",
       "      <td>NaN</td>\n",
       "      <td>NaN</td>\n",
       "    </tr>\n",
       "  </tbody>\n",
       "</table>\n",
       "</div>"
      ],
      "text/plain": [
       "    Name   Age     dept   Salary  promoted_salary\n",
       "0  Alice  25.0       HR  66000.0          19800.0\n",
       "1    Bob  30.0       IT  76000.0          22800.0\n",
       "2  kiran  35.0  Finance  86000.0          25800.0\n",
       "3  David   NaN       IT  78000.0          23400.0\n",
       "4    Eve  29.0       HR      NaN              NaN"
      ]
     },
     "execution_count": 140,
     "metadata": {},
     "output_type": "execute_result"
    }
   ],
   "source": [
    "df"
   ]
  },
  {
   "cell_type": "code",
   "execution_count": 142,
   "id": "868170ee",
   "metadata": {},
   "outputs": [
    {
     "data": {
      "text/html": [
       "<div>\n",
       "<style scoped>\n",
       "    .dataframe tbody tr th:only-of-type {\n",
       "        vertical-align: middle;\n",
       "    }\n",
       "\n",
       "    .dataframe tbody tr th {\n",
       "        vertical-align: top;\n",
       "    }\n",
       "\n",
       "    .dataframe thead th {\n",
       "        text-align: right;\n",
       "    }\n",
       "</style>\n",
       "<table border=\"1\" class=\"dataframe\">\n",
       "  <thead>\n",
       "    <tr style=\"text-align: right;\">\n",
       "      <th></th>\n",
       "      <th>Dept</th>\n",
       "      <th>Location</th>\n",
       "      <th>Manager</th>\n",
       "    </tr>\n",
       "  </thead>\n",
       "  <tbody>\n",
       "    <tr>\n",
       "      <th>0</th>\n",
       "      <td>HR</td>\n",
       "      <td>New York</td>\n",
       "      <td>Laura</td>\n",
       "    </tr>\n",
       "    <tr>\n",
       "      <th>1</th>\n",
       "      <td>IT</td>\n",
       "      <td>San Francisco</td>\n",
       "      <td>Steve</td>\n",
       "    </tr>\n",
       "    <tr>\n",
       "      <th>2</th>\n",
       "      <td>Finance</td>\n",
       "      <td>Chicago</td>\n",
       "      <td>Nina</td>\n",
       "    </tr>\n",
       "  </tbody>\n",
       "</table>\n",
       "</div>"
      ],
      "text/plain": [
       "      Dept       Location Manager\n",
       "0       HR       New York   Laura\n",
       "1       IT  San Francisco   Steve\n",
       "2  Finance        Chicago    Nina"
      ]
     },
     "execution_count": 142,
     "metadata": {},
     "output_type": "execute_result"
    }
   ],
   "source": [
    "#joins and merges\n",
    "\n",
    "department_info = {\n",
    "    \"Dept\": [\"HR\", \"IT\", \"Finance\"],\n",
    "    \"Location\": [\"New York\", \"San Francisco\", \"Chicago\"],\n",
    "    \"Manager\": [\"Laura\", \"Steve\", \"Nina\"]\n",
    "}\n",
    "\n",
    "df2=pd.DataFrame(department_info)\n",
    "df2"
   ]
  },
  {
   "cell_type": "code",
   "execution_count": 143,
   "id": "471b2fd1",
   "metadata": {},
   "outputs": [
    {
     "data": {
      "text/html": [
       "<div>\n",
       "<style scoped>\n",
       "    .dataframe tbody tr th:only-of-type {\n",
       "        vertical-align: middle;\n",
       "    }\n",
       "\n",
       "    .dataframe tbody tr th {\n",
       "        vertical-align: top;\n",
       "    }\n",
       "\n",
       "    .dataframe thead th {\n",
       "        text-align: right;\n",
       "    }\n",
       "</style>\n",
       "<table border=\"1\" class=\"dataframe\">\n",
       "  <thead>\n",
       "    <tr style=\"text-align: right;\">\n",
       "      <th></th>\n",
       "      <th>Name</th>\n",
       "      <th>Age</th>\n",
       "      <th>dept</th>\n",
       "      <th>Salary</th>\n",
       "      <th>promoted_salary</th>\n",
       "      <th>Dept</th>\n",
       "      <th>Location</th>\n",
       "      <th>Manager</th>\n",
       "    </tr>\n",
       "  </thead>\n",
       "  <tbody>\n",
       "    <tr>\n",
       "      <th>0</th>\n",
       "      <td>Alice</td>\n",
       "      <td>25.0</td>\n",
       "      <td>HR</td>\n",
       "      <td>66000.0</td>\n",
       "      <td>19800.0</td>\n",
       "      <td>NaN</td>\n",
       "      <td>NaN</td>\n",
       "      <td>NaN</td>\n",
       "    </tr>\n",
       "    <tr>\n",
       "      <th>1</th>\n",
       "      <td>Bob</td>\n",
       "      <td>30.0</td>\n",
       "      <td>IT</td>\n",
       "      <td>76000.0</td>\n",
       "      <td>22800.0</td>\n",
       "      <td>NaN</td>\n",
       "      <td>NaN</td>\n",
       "      <td>NaN</td>\n",
       "    </tr>\n",
       "    <tr>\n",
       "      <th>2</th>\n",
       "      <td>kiran</td>\n",
       "      <td>35.0</td>\n",
       "      <td>Finance</td>\n",
       "      <td>86000.0</td>\n",
       "      <td>25800.0</td>\n",
       "      <td>NaN</td>\n",
       "      <td>NaN</td>\n",
       "      <td>NaN</td>\n",
       "    </tr>\n",
       "    <tr>\n",
       "      <th>3</th>\n",
       "      <td>David</td>\n",
       "      <td>NaN</td>\n",
       "      <td>IT</td>\n",
       "      <td>78000.0</td>\n",
       "      <td>23400.0</td>\n",
       "      <td>NaN</td>\n",
       "      <td>NaN</td>\n",
       "      <td>NaN</td>\n",
       "    </tr>\n",
       "    <tr>\n",
       "      <th>4</th>\n",
       "      <td>Eve</td>\n",
       "      <td>29.0</td>\n",
       "      <td>HR</td>\n",
       "      <td>NaN</td>\n",
       "      <td>NaN</td>\n",
       "      <td>NaN</td>\n",
       "      <td>NaN</td>\n",
       "      <td>NaN</td>\n",
       "    </tr>\n",
       "    <tr>\n",
       "      <th>0</th>\n",
       "      <td>NaN</td>\n",
       "      <td>NaN</td>\n",
       "      <td>NaN</td>\n",
       "      <td>NaN</td>\n",
       "      <td>NaN</td>\n",
       "      <td>HR</td>\n",
       "      <td>New York</td>\n",
       "      <td>Laura</td>\n",
       "    </tr>\n",
       "    <tr>\n",
       "      <th>1</th>\n",
       "      <td>NaN</td>\n",
       "      <td>NaN</td>\n",
       "      <td>NaN</td>\n",
       "      <td>NaN</td>\n",
       "      <td>NaN</td>\n",
       "      <td>IT</td>\n",
       "      <td>San Francisco</td>\n",
       "      <td>Steve</td>\n",
       "    </tr>\n",
       "    <tr>\n",
       "      <th>2</th>\n",
       "      <td>NaN</td>\n",
       "      <td>NaN</td>\n",
       "      <td>NaN</td>\n",
       "      <td>NaN</td>\n",
       "      <td>NaN</td>\n",
       "      <td>Finance</td>\n",
       "      <td>Chicago</td>\n",
       "      <td>Nina</td>\n",
       "    </tr>\n",
       "  </tbody>\n",
       "</table>\n",
       "</div>"
      ],
      "text/plain": [
       "    Name   Age     dept   Salary  promoted_salary     Dept       Location  \\\n",
       "0  Alice  25.0       HR  66000.0          19800.0      NaN            NaN   \n",
       "1    Bob  30.0       IT  76000.0          22800.0      NaN            NaN   \n",
       "2  kiran  35.0  Finance  86000.0          25800.0      NaN            NaN   \n",
       "3  David   NaN       IT  78000.0          23400.0      NaN            NaN   \n",
       "4    Eve  29.0       HR      NaN              NaN      NaN            NaN   \n",
       "0    NaN   NaN      NaN      NaN              NaN       HR       New York   \n",
       "1    NaN   NaN      NaN      NaN              NaN       IT  San Francisco   \n",
       "2    NaN   NaN      NaN      NaN              NaN  Finance        Chicago   \n",
       "\n",
       "  Manager  \n",
       "0     NaN  \n",
       "1     NaN  \n",
       "2     NaN  \n",
       "3     NaN  \n",
       "4     NaN  \n",
       "0   Laura  \n",
       "1   Steve  \n",
       "2    Nina  "
      ]
     },
     "execution_count": 143,
     "metadata": {},
     "output_type": "execute_result"
    }
   ],
   "source": [
    "#concate\n",
    "pd.concat([df,df2])"
   ]
  },
  {
   "cell_type": "code",
   "execution_count": 144,
   "id": "aa11c679",
   "metadata": {},
   "outputs": [
    {
     "data": {
      "text/html": [
       "<div>\n",
       "<style scoped>\n",
       "    .dataframe tbody tr th:only-of-type {\n",
       "        vertical-align: middle;\n",
       "    }\n",
       "\n",
       "    .dataframe tbody tr th {\n",
       "        vertical-align: top;\n",
       "    }\n",
       "\n",
       "    .dataframe thead th {\n",
       "        text-align: right;\n",
       "    }\n",
       "</style>\n",
       "<table border=\"1\" class=\"dataframe\">\n",
       "  <thead>\n",
       "    <tr style=\"text-align: right;\">\n",
       "      <th></th>\n",
       "      <th>Name</th>\n",
       "      <th>Age</th>\n",
       "      <th>dept</th>\n",
       "      <th>Salary</th>\n",
       "      <th>promoted_salary</th>\n",
       "      <th>Dept</th>\n",
       "      <th>Location</th>\n",
       "      <th>Manager</th>\n",
       "    </tr>\n",
       "  </thead>\n",
       "  <tbody>\n",
       "    <tr>\n",
       "      <th>0</th>\n",
       "      <td>Alice</td>\n",
       "      <td>25.0</td>\n",
       "      <td>HR</td>\n",
       "      <td>66000.0</td>\n",
       "      <td>19800.0</td>\n",
       "      <td>HR</td>\n",
       "      <td>New York</td>\n",
       "      <td>Laura</td>\n",
       "    </tr>\n",
       "    <tr>\n",
       "      <th>1</th>\n",
       "      <td>Bob</td>\n",
       "      <td>30.0</td>\n",
       "      <td>IT</td>\n",
       "      <td>76000.0</td>\n",
       "      <td>22800.0</td>\n",
       "      <td>IT</td>\n",
       "      <td>San Francisco</td>\n",
       "      <td>Steve</td>\n",
       "    </tr>\n",
       "    <tr>\n",
       "      <th>2</th>\n",
       "      <td>kiran</td>\n",
       "      <td>35.0</td>\n",
       "      <td>Finance</td>\n",
       "      <td>86000.0</td>\n",
       "      <td>25800.0</td>\n",
       "      <td>Finance</td>\n",
       "      <td>Chicago</td>\n",
       "      <td>Nina</td>\n",
       "    </tr>\n",
       "    <tr>\n",
       "      <th>3</th>\n",
       "      <td>David</td>\n",
       "      <td>NaN</td>\n",
       "      <td>IT</td>\n",
       "      <td>78000.0</td>\n",
       "      <td>23400.0</td>\n",
       "      <td>NaN</td>\n",
       "      <td>NaN</td>\n",
       "      <td>NaN</td>\n",
       "    </tr>\n",
       "    <tr>\n",
       "      <th>4</th>\n",
       "      <td>Eve</td>\n",
       "      <td>29.0</td>\n",
       "      <td>HR</td>\n",
       "      <td>NaN</td>\n",
       "      <td>NaN</td>\n",
       "      <td>NaN</td>\n",
       "      <td>NaN</td>\n",
       "      <td>NaN</td>\n",
       "    </tr>\n",
       "  </tbody>\n",
       "</table>\n",
       "</div>"
      ],
      "text/plain": [
       "    Name   Age     dept   Salary  promoted_salary     Dept       Location  \\\n",
       "0  Alice  25.0       HR  66000.0          19800.0       HR       New York   \n",
       "1    Bob  30.0       IT  76000.0          22800.0       IT  San Francisco   \n",
       "2  kiran  35.0  Finance  86000.0          25800.0  Finance        Chicago   \n",
       "3  David   NaN       IT  78000.0          23400.0      NaN            NaN   \n",
       "4    Eve  29.0       HR      NaN              NaN      NaN            NaN   \n",
       "\n",
       "  Manager  \n",
       "0   Laura  \n",
       "1   Steve  \n",
       "2    Nina  \n",
       "3     NaN  \n",
       "4     NaN  "
      ]
     },
     "execution_count": 144,
     "metadata": {},
     "output_type": "execute_result"
    }
   ],
   "source": [
    "pd.concat([df,df2],axis=1)"
   ]
  },
  {
   "cell_type": "code",
   "execution_count": 148,
   "id": "bc76b93e",
   "metadata": {},
   "outputs": [],
   "source": [
    "# pd.merge([df,df2], on = \"dept\")"
   ]
  },
  {
   "cell_type": "markdown",
   "id": "fe9d9def",
   "metadata": {},
   "source": [
    "import file \n"
   ]
  }
 ],
 "metadata": {
  "kernelspec": {
   "display_name": ".venv",
   "language": "python",
   "name": "python3"
  },
  "language_info": {
   "codemirror_mode": {
    "name": "ipython",
    "version": 3
   },
   "file_extension": ".py",
   "mimetype": "text/x-python",
   "name": "python",
   "nbconvert_exporter": "python",
   "pygments_lexer": "ipython3",
   "version": "3.13.2"
  }
 },
 "nbformat": 4,
 "nbformat_minor": 5
}
