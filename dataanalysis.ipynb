{
 "cells": [
  {
   "cell_type": "code",
   "execution_count": 1,
   "id": "846875e0",
   "metadata": {},
   "outputs": [
    {
     "name": "stdout",
     "output_type": "stream",
     "text": [
      "hello world\n"
     ]
    }
   ],
   "source": [
    "print(\"hello world\")"
   ]
  },
  {
   "cell_type": "code",
   "execution_count": 2,
   "id": "554df001",
   "metadata": {},
   "outputs": [
    {
     "name": "stdout",
     "output_type": "stream",
     "text": [
      "List type: <class 'list'>\n",
      "Array type: <class 'numpy.ndarray'>\n",
      "List multiplied by 2: [2, 4, 6, 8, 10]\n",
      "Array multiplied by 2: [ 2  4  6  8 10]\n",
      "List memory size: 88\n",
      "Array memory size: 40\n",
      "List slice: [2, 3, 4]\n",
      "Array slice: [2 3 4]\n",
      "List sqrt: [1.0, 1.4142135623730951, 1.7320508075688772, 2.0, 2.23606797749979]\n",
      "Array sqrt: [1.         1.41421356 1.73205081 2.         2.23606798]\n"
     ]
    }
   ],
   "source": [
    "import numpy as np\n",
    "import math\n",
    "\n",
    "# Normal Python list\n",
    "my_list = [1, 2, 3, 4, 5]\n",
    "\n",
    "# Numpy array\n",
    "my_array = np.array([1, 2, 3, 4, 5])\n",
    "\n",
    "# Differences:\n",
    "\n",
    "# 1. Data type:\n",
    "print(\"List type:\", type(my_list))\n",
    "print(\"Array type:\", type(my_array))\n",
    "\n",
    "# 2. Element-wise operations:\n",
    "list_result = [x * 2 for x in my_list]  # List requires explicit iteration\n",
    "array_result = my_array * 2             # Numpy array supports vectorized operations\n",
    "\n",
    "print(\"List multiplied by 2:\", list_result)\n",
    "print(\"Array multiplied by 2:\", array_result)\n",
    "\n",
    "# 3. Memory efficiency:\n",
    "print(\"List memory size:\", my_list.__sizeof__())\n",
    "print(\"Array memory size:\", my_array.nbytes)\n",
    "\n",
    "# 4. Slicing and advanced indexing:\n",
    "print(\"List slice:\", my_list[1:4])\n",
    "print(\"Array slice:\", my_array[1:4])\n",
    "\n",
    "# 5. Mathematical functions:\n",
    "# Lists require manual implementation or use of map\n",
    "list_sqrt = [math.sqrt(x) for x in my_list]\n",
    "array_sqrt = np.sqrt(my_array)\n",
    "\n",
    "print(\"List sqrt:\", list_sqrt)\n",
    "print(\"Array sqrt:\", array_sqrt)"
   ]
  },
  {
   "cell_type": "markdown",
   "id": "bad84654",
   "metadata": {},
   "source": [
    "create numpy array\n"
   ]
  },
  {
   "cell_type": "code",
   "execution_count": 5,
   "id": "5b18aca8",
   "metadata": {},
   "outputs": [
    {
     "name": "stdout",
     "output_type": "stream",
     "text": [
      "Array created: [1 2 3 4 5]\n",
      "2D Array created: [[1 2 3]\n",
      " [4 5 6]]\n"
     ]
    },
    {
     "data": {
      "text/plain": [
       "2"
      ]
     },
     "execution_count": 5,
     "metadata": {},
     "output_type": "execute_result"
    }
   ],
   "source": [
    "arr=np.array([1,2,3,4,5])\n",
    "print(\"Array created:\", arr)\n",
    "arr.ndim\n",
    "arr2=np.array([[1,2,3],[4,5,6]])\n",
    "print(\"2D Array created:\", arr2)\n",
    "arr2.ndim\n"
   ]
  },
  {
   "cell_type": "markdown",
   "id": "47cc011b",
   "metadata": {},
   "source": [
    "range function\n"
   ]
  },
  {
   "cell_type": "code",
   "execution_count": 7,
   "id": "93553892",
   "metadata": {},
   "outputs": [
    {
     "name": "stdout",
     "output_type": "stream",
     "text": [
      "Range created: [1 3 5 7 9]\n"
     ]
    }
   ],
   "source": [
    "array=np.arange(1,10,2)\n",
    "print(\"Range created:\", array)"
   ]
  },
  {
   "cell_type": "markdown",
   "id": "ff083546",
   "metadata": {},
   "source": [
    "linespace function\n"
   ]
  },
  {
   "cell_type": "code",
   "execution_count": 8,
   "id": "c6c7af63",
   "metadata": {},
   "outputs": [
    {
     "name": "stdout",
     "output_type": "stream",
     "text": [
      "Linspace created: [0.  0.5 1.  1.5 2. ]\n"
     ]
    }
   ],
   "source": [
    "#linespace function \n",
    "#This function is used to create an array of evenly spaced values over a specified range.\n",
    "arr=np.linspace(0,2,5) #start, stop, numbers blw them\n",
    "print(\"Linspace created:\", arr)"
   ]
  },
  {
   "cell_type": "markdown",
   "id": "db969b5f",
   "metadata": {},
   "source": [
    "logspace function\n"
   ]
  },
  {
   "cell_type": "code",
   "execution_count": 12,
   "id": "74d011de",
   "metadata": {},
   "outputs": [
    {
     "name": "stdout",
     "output_type": "stream",
     "text": [
      "Logspace created: [  10.  100. 1000.]\n"
     ]
    }
   ],
   "source": [
    "#logspace function\n",
    "#This function is used to create an array of evenly spaced values on a logarithmic scale.\n",
    "arr=np.logspace(1, 3, 3) #start, stop, numbers blw them  10^1 to 10^3 \n",
    "print(\"Logspace created:\", arr)"
   ]
  },
  {
   "cell_type": "markdown",
   "id": "98bd6b01",
   "metadata": {},
   "source": [
    "zeros function"
   ]
  },
  {
   "cell_type": "code",
   "execution_count": 16,
   "id": "4a1fd1a4",
   "metadata": {},
   "outputs": [
    {
     "name": "stdout",
     "output_type": "stream",
     "text": [
      "Zeros array created: [0. 0. 0. 0. 0.]\n",
      "2D Zeros array created: [[0. 0. 0.]\n",
      " [0. 0. 0.]]\n"
     ]
    }
   ],
   "source": [
    "#zeros function\n",
    "#This function is used to create an array filled with zeros.\n",
    "arr=np.zeros(5) # Creates a 1D array of zeros with length 5\n",
    "print(\"Zeros array created:\", arr)\n",
    "arr2=np.zeros((2,3)) # Creates a 2D array of zeros with shape (2, 3)\n",
    "print(\"2D Zeros array created:\", arr2)"
   ]
  },
  {
   "cell_type": "markdown",
   "id": "1e998b15",
   "metadata": {},
   "source": [
    "ones function"
   ]
  },
  {
   "cell_type": "code",
   "execution_count": 17,
   "id": "e8aaa910",
   "metadata": {},
   "outputs": [
    {
     "name": "stdout",
     "output_type": "stream",
     "text": [
      "ones array created: [1. 1. 1. 1. 1.]\n",
      "2D ones array created: [[1. 1. 1.]\n",
      " [1. 1. 1.]]\n"
     ]
    }
   ],
   "source": [
    "#ones function\n",
    "#This function is used to create an array filled with ones.\n",
    "arr=np.ones(5) # Creates a 1D array of zeros with length 5\n",
    "print(\"ones array created:\", arr)\n",
    "arr2=np.ones((2,3)) # Creates a 2D array of zeros with shape (2, 3)\n",
    "print(\"2D ones array created:\", arr2)"
   ]
  },
  {
   "cell_type": "markdown",
   "id": "cbb3025d",
   "metadata": {},
   "source": [
    "full function\n"
   ]
  },
  {
   "cell_type": "code",
   "execution_count": 19,
   "id": "e706e619",
   "metadata": {},
   "outputs": [
    {
     "name": "stdout",
     "output_type": "stream",
     "text": [
      "Full array created: [4 4 4 4 4 4 4 4 4 4]\n",
      "2D Full array created: [[7 7 7]\n",
      " [7 7 7]]\n"
     ]
    }
   ],
   "source": [
    "#full function\n",
    "#This function is used to create an array filled with a specified value.\n",
    "arr=np.full(10,4) # Creates a 1D array of length 10 filled with the value 4\n",
    "print(\"Full array created:\", arr)\n",
    "arr2=np.full((2,3),7) # Creates a 2D array of shape (2, 3) filled with the value 7\n",
    "print(\"2D Full array created:\", arr2)"
   ]
  },
  {
   "cell_type": "markdown",
   "id": "e7f7ac2d",
   "metadata": {},
   "source": [
    "empty function\n"
   ]
  },
  {
   "cell_type": "code",
   "execution_count": 20,
   "id": "70ea1dff",
   "metadata": {},
   "outputs": [
    {
     "name": "stdout",
     "output_type": "stream",
     "text": [
      "Empty array created: [1. 1. 1. 1. 1.]\n",
      "2D Empty array created: [[1. 1. 1.]\n",
      " [1. 1. 1.]]\n"
     ]
    }
   ],
   "source": [
    "#empty function\n",
    "#This function is used to create an array without initializing its values.\n",
    "arr=np.empty(5) # Creates a 1D array of length 5 without initializing values\n",
    "print(\"Empty array created:\", arr)\n",
    "arr2=np.empty((2,3)) # Creates a 2D array of shape (2, 3) without initializing values\n",
    "print(\"2D Empty array created:\", arr2)"
   ]
  },
  {
   "cell_type": "markdown",
   "id": "3a52f59d",
   "metadata": {},
   "source": [
    "random function"
   ]
  },
  {
   "cell_type": "code",
   "execution_count": 26,
   "id": "637ae411",
   "metadata": {},
   "outputs": [
    {
     "name": "stdout",
     "output_type": "stream",
     "text": [
      "Random array created: [0.98574344 0.99463138 0.67830605 0.20222588 0.30419103 0.07666958\n",
      " 0.09904393 0.68129834 0.47473459 0.88947329]\n",
      "2D Random array created: [[0.52443044 0.8716262  0.44248363]\n",
      " [0.45700343 0.15366211 0.74311411]]\n",
      "Random normal array created: [ 0.21648111  0.45760869  0.64141856  0.57680774  1.09182481  0.03311688\n",
      " -0.11315444 -0.56223344  0.21149282  0.71552259]\n",
      "2D Random normal array created: [[ 0.5662932   0.90215622 -0.57558281]\n",
      " [-1.29658963  0.48250972 -0.58499456]]\n",
      "Random integers array created: [4 4 9 5 5]\n",
      "2D Random integers array created: [[2 8 6]\n",
      " [8 1 4]]\n"
     ]
    }
   ],
   "source": [
    "#random function\n",
    "#This function is used to create an array filled with random values.\n",
    "arr=np.random.rand(10) # Creates a 1D array of random values and they will be uniformly distributed between 0 and 1\n",
    "print(\"Random array created:\", arr)\n",
    "\n",
    "arr2=np.random.rand(2,3) # Creates a 2D array of random values with shape (2, 3)\n",
    "print(\"2D Random array created:\", arr2)\n",
    "\n",
    "#random.randn function\n",
    "#This function is used to create an array filled with random values from a standard normal distribution (mean=0, std=1).\n",
    "arr=np.random.randn(10) # Creates a 1D array of random values from a standard normal distribution\n",
    "print(\"Random normal array created:\", arr)\n",
    "arr2=np.random.randn(2,3) # Creates a 2D array of random values from a standard normal distribution with shape (2, 3)\n",
    "print(\"2D Random normal array created:\", arr2)\n",
    "#random.randint function\n",
    "#This function is used to create an array filled with random integers within a specified range.\n",
    "\n",
    "arr=np.random.randint(1, 10, size=5) # Creates a 1D array of random integers between 1 and 10\n",
    "print(\"Random integers array created:\", arr)\n",
    "arr2=np.random.randint(1, 10, size=(2, 3)) # Creates a 2D array of random integers with shape (2, 3)\n",
    "print(\"2D Random integers array created:\", arr2)\n",
    "\n",
    "\n",
    "\n"
   ]
  },
  {
   "cell_type": "markdown",
   "id": "063e10b9",
   "metadata": {},
   "source": [
    "numpy datatypes and typecasting\n"
   ]
  },
  {
   "cell_type": "code",
   "execution_count": null,
   "id": "3eb8e5ed",
   "metadata": {},
   "outputs": [
    {
     "name": "stdout",
     "output_type": "stream",
     "text": [
      "Integer array: [1 2 3]\n",
      "Float array: [1. 2. 3.]\n",
      "Complex number array: [1.+2.j 3.+4.j]\n",
      "[1.  2.  3.5]\n",
      "float64\n",
      "[1 2 3]\n",
      "int64\n",
      "['1' '2' '3' 'aa']\n",
      "<U21\n",
      "Original array: [1 2 3]\n",
      "Original array dtype: int64\n",
      "New array: [1. 2. 3.]\n",
      "New array dtype: float64\n"
     ]
    }
   ],
   "source": [
    "#datatypes and typecasting\n",
    "#Numpy supports various data types, including integers, floats, and complex numbers.\n",
    "arr_int = np.array([1, 2, 3], dtype=np.int32)  # Integer array\n",
    "arr_float = np.array([1.0, 2.0, 3.0], dtype=np.float64)  # Float array\n",
    "arr_complex = np.array([1+2j, 3+4j], dtype=np.complex128)  # Complex number array\n",
    "print(\"Integer array:\", arr_int)\n",
    "print(\"Float array:\", arr_float)\n",
    "print(\"Complex number array:\", arr_complex)\n",
    "\n",
    "#if u change any single element in the array, it will change the whole array to that type\n",
    "lst= [1, 2, 3.5]  # Mixed list\n",
    "arr=np.array(lst)\n",
    "print(arr)\n",
    "print(arr.dtype)\n",
    "lst= [1, 2, 3]  # All integers\n",
    "arr=np.array(lst)\n",
    "print(arr)\n",
    "print(arr.dtype)\n",
    "lst= [1, 2, 3 ,\"aa\"]  # Mixed list with string\n",
    "arr=np.array(lst)\n",
    "print(arr)\n",
    "print(arr.dtype)\n",
    "\n",
    "\n",
    "# Typecasting\n",
    "# You can change the data type of an existing array using the astype() method.\n",
    "arr=np.array([1,2,3])\n",
    "print(\"Original array:\", arr)\n",
    "print(\"Original array dtype:\", arr.dtype)\n",
    "new_arr = arr.astype(np.float64)  # Convert to float\n",
    "\n",
    "print(\"New array:\", new_arr)\n",
    "print(\"New array dtype:\", new_arr.dtype)\n",
    "\n",
    "\n",
    "#typecasting errros\n",
    "arr=np.array([1,2,\"hello\"])\n",
    "new_arr = arr.astype(np.float64)  # This will raise an error because \"hello\" cannot be converted to float\n",
    "# print(\"New array:\", new_arr)  # Uncommenting this line will raise an error  \n",
    "# # To avoid this, ensure that all elements can be converted to the desired type before using astype().\n",
    "  \n",
    "\n"
   ]
  },
  {
   "cell_type": "markdown",
   "id": "fa737a5e",
   "metadata": {},
   "source": [
    "creating multidimensional array manually"
   ]
  },
  {
   "cell_type": "code",
   "execution_count": 42,
   "id": "ae042145",
   "metadata": {},
   "outputs": [
    {
     "name": "stdout",
     "output_type": "stream",
     "text": [
      "2D Array created manually: [[1 2 3]\n",
      " [4 5 6]]\n"
     ]
    },
    {
     "data": {
      "text/plain": [
       "8"
      ]
     },
     "execution_count": 42,
     "metadata": {},
     "output_type": "execute_result"
    }
   ],
   "source": [
    "arr=np.array([[1,2,3]\n",
    "            ,[4,5,6]])\n",
    "print(\"2D Array created manually:\", arr)\n",
    "arr.ndim\n",
    "arr.shape\n",
    "arr.size\n",
    "arr.itemsize #each element size in bytes\n",
    "# arr.dtype #data type of the array elements"
   ]
  },
  {
   "cell_type": "markdown",
   "id": "da3d2b64",
   "metadata": {},
   "source": [
    "reshape function\n"
   ]
  },
  {
   "cell_type": "code",
   "execution_count": 44,
   "id": "aeaa651e",
   "metadata": {},
   "outputs": [
    {
     "name": "stdout",
     "output_type": "stream",
     "text": [
      "Original array shape: (2, 3)\n",
      "Reshaped array: [[1 2]\n",
      " [3 4]\n",
      " [5 6]]\n",
      "Reshaped array shape: (3, 2)\n",
      "Reshaped 3x3 array: [[1 2 3]\n",
      " [4 5 6]\n",
      " [7 8 9]]\n"
     ]
    }
   ],
   "source": [
    "#reshape function\n",
    "#This function is used to change the shape of an existing array without changing its data.\n",
    "arr=np.array([[1,2,3]\n",
    "            ,[4,5,6]])\n",
    "print(\"Original array shape:\", arr.shape)\n",
    "reshaped_arr = arr.reshape(3, 2)  # Reshape to 3\n",
    "print(\"Reshaped array:\", reshaped_arr)\n",
    "print(\"Reshaped array shape:\", reshaped_arr.shape)\n",
    "\n",
    "arr=np.array([1,2,3,4,5,6,7,8,9])\n",
    "reshapedarr=arr.reshape(3,3) # Reshape to 3x3\n",
    "print(\"Reshaped 3x3 array:\", reshapedarr)\n"
   ]
  }
 ],
 "metadata": {
  "kernelspec": {
   "display_name": ".venv",
   "language": "python",
   "name": "python3"
  },
  "language_info": {
   "codemirror_mode": {
    "name": "ipython",
    "version": 3
   },
   "file_extension": ".py",
   "mimetype": "text/x-python",
   "name": "python",
   "nbconvert_exporter": "python",
   "pygments_lexer": "ipython3",
   "version": "3.13.2"
  }
 },
 "nbformat": 4,
 "nbformat_minor": 5
}
