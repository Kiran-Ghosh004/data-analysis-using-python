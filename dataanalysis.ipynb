{
 "cells": [
  {
   "cell_type": "code",
   "execution_count": 49,
   "id": "846875e0",
   "metadata": {},
   "outputs": [
    {
     "name": "stdout",
     "output_type": "stream",
     "text": [
      "hello world\n"
     ]
    }
   ],
   "source": [
    "print(\"hello world\")"
   ]
  },
  {
   "cell_type": "code",
   "execution_count": 50,
   "id": "554df001",
   "metadata": {},
   "outputs": [
    {
     "name": "stdout",
     "output_type": "stream",
     "text": [
      "List type: <class 'list'>\n",
      "Array type: <class 'numpy.ndarray'>\n",
      "List multiplied by 2: [2, 4, 6, 8, 10]\n",
      "Array multiplied by 2: [ 2  4  6  8 10]\n",
      "List memory size: 88\n",
      "Array memory size: 40\n",
      "List slice: [2, 3, 4]\n",
      "Array slice: [2 3 4]\n",
      "List sqrt: [1.0, 1.4142135623730951, 1.7320508075688772, 2.0, 2.23606797749979]\n",
      "Array sqrt: [1.         1.41421356 1.73205081 2.         2.23606798]\n"
     ]
    }
   ],
   "source": [
    "import numpy as np\n",
    "import math\n",
    "\n",
    "# Normal Python list\n",
    "my_list = [1, 2, 3, 4, 5]\n",
    "\n",
    "# Numpy array\n",
    "my_array = np.array([1, 2, 3, 4, 5])\n",
    "\n",
    "# Differences:\n",
    "\n",
    "# 1. Data type:\n",
    "print(\"List type:\", type(my_list))\n",
    "print(\"Array type:\", type(my_array))\n",
    "\n",
    "# 2. Element-wise operations:\n",
    "list_result = [x * 2 for x in my_list]  # List requires explicit iteration\n",
    "array_result = my_array * 2             # Numpy array supports vectorized operations\n",
    "\n",
    "print(\"List multiplied by 2:\", list_result)\n",
    "print(\"Array multiplied by 2:\", array_result)\n",
    "\n",
    "# 3. Memory efficiency:\n",
    "print(\"List memory size:\", my_list.__sizeof__())\n",
    "print(\"Array memory size:\", my_array.nbytes)\n",
    "\n",
    "# 4. Slicing and advanced indexing:\n",
    "print(\"List slice:\", my_list[1:4])\n",
    "print(\"Array slice:\", my_array[1:4])\n",
    "\n",
    "# 5. Mathematical functions:\n",
    "# Lists require manual implementation or use of map\n",
    "list_sqrt = [math.sqrt(x) for x in my_list]\n",
    "array_sqrt = np.sqrt(my_array)\n",
    "\n",
    "print(\"List sqrt:\", list_sqrt)\n",
    "print(\"Array sqrt:\", array_sqrt)"
   ]
  },
  {
   "cell_type": "markdown",
   "id": "bad84654",
   "metadata": {},
   "source": [
    "create numpy array\n"
   ]
  },
  {
   "cell_type": "code",
   "execution_count": 51,
   "id": "5b18aca8",
   "metadata": {},
   "outputs": [
    {
     "name": "stdout",
     "output_type": "stream",
     "text": [
      "Array created: [1 2 3 4 5]\n",
      "2D Array created: [[1 2 3]\n",
      " [4 5 6]]\n"
     ]
    },
    {
     "data": {
      "text/plain": [
       "2"
      ]
     },
     "execution_count": 51,
     "metadata": {},
     "output_type": "execute_result"
    }
   ],
   "source": [
    "arr=np.array([1,2,3,4,5])\n",
    "print(\"Array created:\", arr)\n",
    "arr.ndim\n",
    "arr2=np.array([[1,2,3],[4,5,6]])\n",
    "print(\"2D Array created:\", arr2)\n",
    "arr2.ndim\n"
   ]
  },
  {
   "cell_type": "markdown",
   "id": "47cc011b",
   "metadata": {},
   "source": [
    "range function\n"
   ]
  },
  {
   "cell_type": "code",
   "execution_count": 52,
   "id": "93553892",
   "metadata": {},
   "outputs": [
    {
     "name": "stdout",
     "output_type": "stream",
     "text": [
      "Range created: [1 3 5 7 9]\n"
     ]
    }
   ],
   "source": [
    "array=np.arange(1,10,2)\n",
    "print(\"Range created:\", array)"
   ]
  },
  {
   "cell_type": "markdown",
   "id": "ff083546",
   "metadata": {},
   "source": [
    "linespace function\n"
   ]
  },
  {
   "cell_type": "code",
   "execution_count": 53,
   "id": "c6c7af63",
   "metadata": {},
   "outputs": [
    {
     "name": "stdout",
     "output_type": "stream",
     "text": [
      "Linspace created: [0.  0.5 1.  1.5 2. ]\n"
     ]
    }
   ],
   "source": [
    "#linespace function \n",
    "#This function is used to create an array of evenly spaced values over a specified range.\n",
    "arr=np.linspace(0,2,5) #start, stop, numbers blw them\n",
    "print(\"Linspace created:\", arr)"
   ]
  },
  {
   "cell_type": "markdown",
   "id": "db969b5f",
   "metadata": {},
   "source": [
    "logspace function\n"
   ]
  },
  {
   "cell_type": "code",
   "execution_count": 54,
   "id": "74d011de",
   "metadata": {},
   "outputs": [
    {
     "name": "stdout",
     "output_type": "stream",
     "text": [
      "Logspace created: [  10.  100. 1000.]\n"
     ]
    }
   ],
   "source": [
    "#logspace function\n",
    "#This function is used to create an array of evenly spaced values on a logarithmic scale.\n",
    "arr=np.logspace(1, 3, 3) #start, stop, numbers blw them  10^1 to 10^3 \n",
    "print(\"Logspace created:\", arr)"
   ]
  },
  {
   "cell_type": "markdown",
   "id": "98bd6b01",
   "metadata": {},
   "source": [
    "zeros function"
   ]
  },
  {
   "cell_type": "code",
   "execution_count": 55,
   "id": "4a1fd1a4",
   "metadata": {},
   "outputs": [
    {
     "name": "stdout",
     "output_type": "stream",
     "text": [
      "Zeros array created: [0. 0. 0. 0. 0.]\n",
      "2D Zeros array created: [[0. 0. 0.]\n",
      " [0. 0. 0.]]\n"
     ]
    }
   ],
   "source": [
    "#zeros function\n",
    "#This function is used to create an array filled with zeros.\n",
    "arr=np.zeros(5) # Creates a 1D array of zeros with length 5\n",
    "print(\"Zeros array created:\", arr)\n",
    "arr2=np.zeros((2,3)) # Creates a 2D array of zeros with shape (2, 3)\n",
    "print(\"2D Zeros array created:\", arr2)"
   ]
  },
  {
   "cell_type": "markdown",
   "id": "1e998b15",
   "metadata": {},
   "source": [
    "ones function"
   ]
  },
  {
   "cell_type": "code",
   "execution_count": 56,
   "id": "e8aaa910",
   "metadata": {},
   "outputs": [
    {
     "name": "stdout",
     "output_type": "stream",
     "text": [
      "ones array created: [1. 1. 1. 1. 1.]\n",
      "2D ones array created: [[1. 1. 1.]\n",
      " [1. 1. 1.]]\n"
     ]
    }
   ],
   "source": [
    "#ones function\n",
    "#This function is used to create an array filled with ones.\n",
    "arr=np.ones(5) # Creates a 1D array of zeros with length 5\n",
    "print(\"ones array created:\", arr)\n",
    "arr2=np.ones((2,3)) # Creates a 2D array of zeros with shape (2, 3)\n",
    "print(\"2D ones array created:\", arr2)"
   ]
  },
  {
   "cell_type": "markdown",
   "id": "cbb3025d",
   "metadata": {},
   "source": [
    "full function\n"
   ]
  },
  {
   "cell_type": "code",
   "execution_count": 57,
   "id": "e706e619",
   "metadata": {},
   "outputs": [
    {
     "name": "stdout",
     "output_type": "stream",
     "text": [
      "Full array created: [4 4 4 4 4 4 4 4 4 4]\n",
      "2D Full array created: [[7 7 7]\n",
      " [7 7 7]]\n"
     ]
    }
   ],
   "source": [
    "#full function\n",
    "#This function is used to create an array filled with a specified value.\n",
    "arr=np.full(10,4) # Creates a 1D array of length 10 filled with the value 4\n",
    "print(\"Full array created:\", arr)\n",
    "arr2=np.full((2,3),7) # Creates a 2D array of shape (2, 3) filled with the value 7\n",
    "print(\"2D Full array created:\", arr2)"
   ]
  },
  {
   "cell_type": "markdown",
   "id": "e7f7ac2d",
   "metadata": {},
   "source": [
    "empty function\n"
   ]
  },
  {
   "cell_type": "code",
   "execution_count": 58,
   "id": "70ea1dff",
   "metadata": {},
   "outputs": [
    {
     "name": "stdout",
     "output_type": "stream",
     "text": [
      "Empty array created: [1. 1. 1. 1. 1.]\n",
      "2D Empty array created: [[1. 1. 1.]\n",
      " [1. 1. 1.]]\n"
     ]
    }
   ],
   "source": [
    "#empty function\n",
    "#This function is used to create an array without initializing its values.\n",
    "arr=np.empty(5) # Creates a 1D array of length 5 without initializing values\n",
    "print(\"Empty array created:\", arr)\n",
    "arr2=np.empty((2,3)) # Creates a 2D array of shape (2, 3) without initializing values\n",
    "print(\"2D Empty array created:\", arr2)"
   ]
  },
  {
   "cell_type": "markdown",
   "id": "3a52f59d",
   "metadata": {},
   "source": [
    "random function"
   ]
  },
  {
   "cell_type": "code",
   "execution_count": 59,
   "id": "637ae411",
   "metadata": {},
   "outputs": [
    {
     "name": "stdout",
     "output_type": "stream",
     "text": [
      "Random array created: [0.7219094  0.70363214 0.48900214 0.21470852 0.29944116 0.37865587\n",
      " 0.48861865 0.75534378 0.76216984 0.56358068]\n",
      "2D Random array created: [[0.63395391 0.85384397 0.09528433]\n",
      " [0.4327284  0.92152453 0.52377057]]\n",
      "Random normal array created: [ 0.23837273  1.01713055  0.09223802 -1.29556225  0.10137995  0.73824005\n",
      " -1.12358364  0.48392703 -0.76902092 -1.08484498]\n",
      "2D Random normal array created: [[-0.25540542  1.40535553 -1.39779372]\n",
      " [ 1.18436533 -0.89378419  0.78456237]]\n",
      "Random integers array created: [9 1 1 1 7]\n",
      "2D Random integers array created: [[3 1 1]\n",
      " [3 7 1]]\n"
     ]
    }
   ],
   "source": [
    "#random function\n",
    "#This function is used to create an array filled with random values.\n",
    "arr=np.random.rand(10) # Creates a 1D array of random values and they will be uniformly distributed between 0 and 1\n",
    "print(\"Random array created:\", arr)\n",
    "\n",
    "arr2=np.random.rand(2,3) # Creates a 2D array of random values with shape (2, 3)\n",
    "print(\"2D Random array created:\", arr2)\n",
    "\n",
    "#random.randn function\n",
    "#This function is used to create an array filled with random values from a standard normal distribution (mean=0, std=1).\n",
    "arr=np.random.randn(10) # Creates a 1D array of random values from a standard normal distribution\n",
    "print(\"Random normal array created:\", arr)\n",
    "arr2=np.random.randn(2,3) # Creates a 2D array of random values from a standard normal distribution with shape (2, 3)\n",
    "print(\"2D Random normal array created:\", arr2)\n",
    "#random.randint function\n",
    "#This function is used to create an array filled with random integers within a specified range.\n",
    "\n",
    "arr=np.random.randint(1, 10, size=5) # Creates a 1D array of random integers between 1 and 10\n",
    "print(\"Random integers array created:\", arr)\n",
    "arr2=np.random.randint(1, 10, size=(2, 3)) # Creates a 2D array of random integers with shape (2, 3)\n",
    "print(\"2D Random integers array created:\", arr2)\n",
    "\n",
    "\n",
    "\n"
   ]
  },
  {
   "cell_type": "markdown",
   "id": "063e10b9",
   "metadata": {},
   "source": [
    "numpy datatypes and typecasting\n"
   ]
  },
  {
   "cell_type": "code",
   "execution_count": 60,
   "id": "3eb8e5ed",
   "metadata": {},
   "outputs": [
    {
     "name": "stdout",
     "output_type": "stream",
     "text": [
      "Integer array: [1 2 3]\n",
      "Float array: [1. 2. 3.]\n",
      "Complex number array: [1.+2.j 3.+4.j]\n",
      "[1.  2.  3.5]\n",
      "float64\n",
      "[1 2 3]\n",
      "int64\n",
      "['1' '2' '3' 'aa']\n",
      "<U21\n",
      "Original array: [1 2 3]\n",
      "Original array dtype: int64\n",
      "New array: [1. 2. 3.]\n",
      "New array dtype: float64\n"
     ]
    }
   ],
   "source": [
    "#datatypes and typecasting\n",
    "#Numpy supports various data types, including integers, floats, and complex numbers.\n",
    "arr_int = np.array([1, 2, 3], dtype=np.int32)  # Integer array\n",
    "arr_float = np.array([1.0, 2.0, 3.0], dtype=np.float64)  # Float array\n",
    "arr_complex = np.array([1+2j, 3+4j], dtype=np.complex128)  # Complex number array\n",
    "print(\"Integer array:\", arr_int)\n",
    "print(\"Float array:\", arr_float)\n",
    "print(\"Complex number array:\", arr_complex)\n",
    "\n",
    "#if u change any single element in the array, it will change the whole array to that type\n",
    "lst= [1, 2, 3.5]  # Mixed list\n",
    "arr=np.array(lst)\n",
    "print(arr)\n",
    "print(arr.dtype)\n",
    "lst= [1, 2, 3]  # All integers\n",
    "arr=np.array(lst)\n",
    "print(arr)\n",
    "print(arr.dtype)\n",
    "lst= [1, 2, 3 ,\"aa\"]  # Mixed list with string\n",
    "arr=np.array(lst)\n",
    "print(arr)\n",
    "print(arr.dtype)\n",
    "\n",
    "\n",
    "# Typecasting\n",
    "# You can change the data type of an existing array using the astype() method.\n",
    "arr=np.array([1,2,3])\n",
    "print(\"Original array:\", arr)\n",
    "print(\"Original array dtype:\", arr.dtype)\n",
    "new_arr = arr.astype(np.float64)  # Convert to float\n",
    "\n",
    "print(\"New array:\", new_arr)\n",
    "print(\"New array dtype:\", new_arr.dtype)\n",
    "\n",
    "\n",
    "#typecasting errros\n",
    "arr=np.array([1,2,\"hello\"])\n",
    "#ew_arr = arr.astype(np.float64)  # This will raise an error because \"hello\" cannot be converted to float\n",
    "# print(\"New array:\", new_arr)  # Uncommenting this line will raise an error  \n",
    "# # To avoid this, ensure that all elements can be converted to the desired type before using astype().\n",
    "  \n",
    "\n"
   ]
  },
  {
   "cell_type": "markdown",
   "id": "fa737a5e",
   "metadata": {},
   "source": [
    "creating multidimensional array manually"
   ]
  },
  {
   "cell_type": "code",
   "execution_count": 61,
   "id": "ae042145",
   "metadata": {},
   "outputs": [
    {
     "name": "stdout",
     "output_type": "stream",
     "text": [
      "2D Array created manually: [[1 2 3]\n",
      " [4 5 6]]\n"
     ]
    },
    {
     "data": {
      "text/plain": [
       "8"
      ]
     },
     "execution_count": 61,
     "metadata": {},
     "output_type": "execute_result"
    }
   ],
   "source": [
    "arr=np.array([[1,2,3]\n",
    "            ,[4,5,6]])\n",
    "print(\"2D Array created manually:\", arr)\n",
    "arr.ndim\n",
    "arr.shape\n",
    "arr.size\n",
    "arr.itemsize #each element size in bytes\n",
    "# arr.dtype #data type of the array elements"
   ]
  },
  {
   "cell_type": "markdown",
   "id": "da3d2b64",
   "metadata": {},
   "source": [
    "reshape function\n"
   ]
  },
  {
   "cell_type": "code",
   "execution_count": 62,
   "id": "aeaa651e",
   "metadata": {},
   "outputs": [
    {
     "name": "stdout",
     "output_type": "stream",
     "text": [
      "Original array shape: (2, 3)\n",
      "Reshaped array: [[1 2]\n",
      " [3 4]\n",
      " [5 6]]\n",
      "Reshaped array shape: (3, 2)\n",
      "Reshaped 3x3 array: [[1 2 3]\n",
      " [4 5 6]\n",
      " [7 8 9]]\n"
     ]
    }
   ],
   "source": [
    "#reshape function\n",
    "#This function is used to change the shape of an existing array without changing its data.\n",
    "arr=np.array([[1,2,3]\n",
    "            ,[4,5,6]])\n",
    "print(\"Original array shape:\", arr.shape)\n",
    "reshaped_arr = arr.reshape(3, 2)  # Reshape to 3\n",
    "print(\"Reshaped array:\", reshaped_arr)\n",
    "print(\"Reshaped array shape:\", reshaped_arr.shape)\n",
    "\n",
    "arr=np.array([1,2,3,4,5,6,7,8,9])\n",
    "reshapedarr=arr.reshape(3,3) # Reshape to 3x3\n",
    "print(\"Reshaped 3x3 array:\", reshapedarr)\n"
   ]
  },
  {
   "cell_type": "markdown",
   "id": "7fbbd961",
   "metadata": {},
   "source": [
    "ravel function"
   ]
  },
  {
   "cell_type": "code",
   "execution_count": 63,
   "id": "f1fa8931",
   "metadata": {},
   "outputs": [
    {
     "name": "stdout",
     "output_type": "stream",
     "text": [
      "[[1 2 3]\n",
      " [4 5 6]\n",
      " [7 8 9]]\n",
      "Raveled array: [1 2 3 4 5 6 7 8 9]\n"
     ]
    }
   ],
   "source": [
    "#ravel function\n",
    "#This function is used to flatten a multi-dimensional array into a 1D array .\n",
    "\n",
    "print(reshapedarr)\n",
    "raveled_arr = reshapedarr.ravel()  # Flatten the array\n",
    "print(\"Raveled array:\", raveled_arr)"
   ]
  },
  {
   "cell_type": "markdown",
   "id": "ede574b4",
   "metadata": {},
   "source": [
    "flatten function\n"
   ]
  },
  {
   "cell_type": "code",
   "execution_count": 64,
   "id": "ac8d63fd",
   "metadata": {},
   "outputs": [
    {
     "name": "stdout",
     "output_type": "stream",
     "text": [
      "Flattened array: [  1   2 200   4   5   6   7   8   9]\n",
      "Original array remains unchanged: [[1 2 3]\n",
      " [4 5 6]\n",
      " [7 8 9]]\n"
     ]
    }
   ],
   "source": [
    "#flatten function\n",
    "#This function is used to flatten a multi-dimensional array into a 1D array.\n",
    "# It returns a copy of the original array.\n",
    "flattened_arr = reshapedarr.flatten() \n",
    "flattened_arr[2]=200 # Flatten the array\n",
    "print(\"Flattened array:\", flattened_arr)\n",
    "print(\"Original array remains unchanged:\", reshapedarr)"
   ]
  },
  {
   "cell_type": "markdown",
   "id": "96ca7317",
   "metadata": {},
   "source": [
    "arithmatic operations "
   ]
  },
  {
   "cell_type": "code",
   "execution_count": 65,
   "id": "09fab154",
   "metadata": {},
   "outputs": [
    {
     "name": "stdout",
     "output_type": "stream",
     "text": [
      "Sum of arrays: [5 7 9]\n",
      "Difference of arrays: [-3 -3 -3]\n",
      "Product of arrays: [ 4 10 18]\n",
      "Division of arrays: [0.25 0.4  0.5 ]\n",
      "Exponentiation of array: [1 4 9]\n",
      "Square root of array: [1.         1.41421356 1.73205081]\n",
      "Natural logarithm of array: [0.         0.69314718 1.09861229]\n",
      "Sine of array: [0.0000000e+00 1.0000000e+00 1.2246468e-16]\n",
      "Cosine of array: [ 1.000000e+00  6.123234e-17 -1.000000e+00]\n"
     ]
    }
   ],
   "source": [
    "#arithmatic operations\n",
    "# Numpy supports element-wise arithmetic operations on arrays.\n",
    "arr1 = np.array([1, 2, 3])\n",
    "arr2 = np.array([4, 5, 6])\n",
    "sum_arr = arr1 + arr2  # Element-wise addition\n",
    "diff_arr = arr1 - arr2  # Element-wise subtraction\n",
    "print(\"Sum of arrays:\", sum_arr)\n",
    "print(\"Difference of arrays:\", diff_arr)\n",
    "\n",
    "# Element-wise multiplication and division\n",
    "mul_arr = arr1 * arr2  # Element-wise multiplication\n",
    "div_arr = arr1 / arr2  # Element-wise division\n",
    "print(\"Product of arrays:\", mul_arr)\n",
    "print(\"Division of arrays:\", div_arr)\n",
    "# Element-wise exponentiation\n",
    "exp_arr = arr1 ** 2  # Element-wise exponentiation\n",
    "print(\"Exponentiation of array:\", exp_arr)\n",
    "# Element-wise square root\n",
    "sqrt_arr = np.sqrt(arr1)  # Element-wise square root\n",
    "print(\"Square root of array:\", sqrt_arr)\n",
    "# Element-wise logarithm\n",
    "log_arr = np.log(arr1)  # Element-wise natural logarithm\n",
    "print(\"Natural logarithm of array:\", log_arr)\n",
    "# Element-wise sine and cosine\n",
    "sin_arr = np.sin([0,np.pi/2,np.pi])  # Element-wise sine\n",
    "cos_arr = np.cos([0,np.pi/2,np.pi])  # Element-wise cosine\n",
    "print(\"Sine of array:\", sin_arr)\n",
    "print(\"Cosine of array:\", cos_arr)\n",
    "\n"
   ]
  },
  {
   "cell_type": "markdown",
   "id": "5718dcf4",
   "metadata": {},
   "source": [
    "indexing and slicing"
   ]
  },
  {
   "cell_type": "code",
   "execution_count": 66,
   "id": "21c32f97",
   "metadata": {},
   "outputs": [
    {
     "name": "stdout",
     "output_type": "stream",
     "text": [
      "4\n",
      "6\n",
      "5\n",
      "[2 3 4]\n",
      "[1 2 3]\n",
      "[4 5 6]\n",
      "[1 3 5]\n",
      "[6 5 4 3 2 1]\n",
      "[2 4]\n",
      "[2 4]\n",
      "[1 3 5]\n",
      "\n",
      "\n",
      "\n",
      "\n",
      "2D Array:\n",
      "[[1 2 3]\n",
      " [4 5 6]\n",
      " [7 8 9]]\n",
      "Element at (1, 2): 6\n",
      "Row 1: [4 5 6]\n",
      "Column 2: [3 6 9]\n",
      "Sub-array (0:2, 1:3):\n",
      "[[2 3]\n",
      " [5 6]]\n",
      "Reversed 2D Array:\n",
      "[[9 8 7]\n",
      " [6 5 4]\n",
      " [3 2 1]]\n"
     ]
    }
   ],
   "source": [
    "#indexing and slicing\n",
    "# Numpy supports advanced indexing and slicing techniques.\n",
    "arr=np.array([1,2,3,4,5,6])\n",
    "print(arr[3])\n",
    "print(arr[-1])  # Negative indexing (last element)\n",
    "print(arr[-2])  # Second last element\n",
    "print(arr[1:4])  # Slicing from index 1 to 3 (exclusive )\n",
    "print(arr[:3])   # Slicing from the start to index 2 (exclusive)\n",
    "print(arr[3:])   # Slicing from index 3 to the end\n",
    "print(arr[::2])  # Slicing with a step of 2 (every second element)\n",
    "print(arr[::-1])  # Reversing the array using slicing\n",
    "print(arr[1:5:2])  # Slicing with a step of 2 (from index 1 to 4)\n",
    "print(arr[1:5:2])  # Slicing with a step of 2 (from index 1 to 4)\n",
    "print(arr[: : 2]) # Slicing with a step of 2 (from start to end)\n",
    "\n",
    "print(\"\\n\")\n",
    "print(\"\\n\")\n",
    "#multidimensional indexing and slicing\n",
    "# Numpy supports advanced indexing and slicing techniques for multi-dimensional arrays.\n",
    "arr2d = np.array([[1, 2, 3], [4, 5, 6], [7, 8, 9]])\n",
    "print(\"2D Array:\")\n",
    "print(arr2d)\n",
    "print(\"Element at (1, 2):\", arr2d[1, 2])  # Accessing element at row 1, column 2\n",
    "print(\"Row 1:\", arr2d[1])  # Accessing entire row\n",
    "print(\"Column 2:\", arr2d[:, 2])  # Accessing entire column\n",
    "print(\"Sub-array (0:2, 1:3):\")\n",
    "print(arr2d[0:2, 1:3])  # Slicing a sub-array (rows 0 to 1, columns 1 to 2)\n",
    "print(\"Reversed 2D Array:\")\n",
    "print(arr2d[::-1, ::-1])  # Reversing the entire 2D array\n",
    "\n"
   ]
  },
  {
   "cell_type": "markdown",
   "id": "641cedae",
   "metadata": {},
   "source": [
    "looping in arrays'"
   ]
  },
  {
   "cell_type": "code",
   "execution_count": 67,
   "id": "552ce6ca",
   "metadata": {},
   "outputs": [
    {
     "name": "stdout",
     "output_type": "stream",
     "text": [
      "2D Array:\n",
      "[[1 2 3]\n",
      " [4 5 6]\n",
      " [7 8 9]]\n",
      "1 2 3 4 5 6 7 8 9 \n",
      "\n",
      "(0, 0) 1\n",
      "(0, 1) 2\n",
      "(0, 2) 3\n",
      "(1, 0) 4\n",
      "(1, 1) 5\n",
      "(1, 2) 6\n",
      "(2, 0) 7\n",
      "(2, 1) 8\n",
      "(2, 2) 9\n"
     ]
    }
   ],
   "source": [
    "arr=np.array([[1, 2, 3], [4, 5, 6], [7, 8, 9]])\n",
    "print(\"2D Array:\")\n",
    "print(arr)\n",
    "#looping in arrays\n",
    "for x in np.nditer(arr):\n",
    "    print(x, end=' ')  # Iterating through each element in the array\n",
    "print(\"\\n\")\n",
    "for ind,x in np.ndenumerate(arr):\n",
    "    print(ind,x, )  # Iterating through each element with its index\n",
    "\n"
   ]
  },
  {
   "cell_type": "markdown",
   "id": "d33efa53",
   "metadata": {},
   "source": [
    "views vs copy"
   ]
  },
  {
   "cell_type": "code",
   "execution_count": 68,
   "id": "fda85b44",
   "metadata": {},
   "outputs": [
    {
     "name": "stdout",
     "output_type": "stream",
     "text": [
      "Original array: [1 2 3 4 5]\n",
      "View of the array: [10  2  3  4  5]\n",
      "Original array but changed : [10  2  3  4  5]\n",
      "\n",
      "\n",
      "Copy of the array: [20  2  3  4  5]\n",
      "Original array remains unchanged: [10  2  3  4  5]\n"
     ]
    }
   ],
   "source": [
    "#views vs copy\n",
    "# Numpy arrays can be viewed as either views or copies of the original data.\n",
    "arr = np.array([1, 2, 3, 4, 5])\n",
    "view_arr = arr.view()  # Create a view of the original array\n",
    "print(\"Original array:\", arr)\n",
    "view_arr[0] = 10  # Modify the view\n",
    "print(\"View of the array:\", view_arr)\n",
    "print(\"Original array but changed :\", arr)\n",
    "print(\"\\n\")\n",
    "#copy\n",
    "# Create a copy of the original array\n",
    "copy_arr = arr.copy()  # Create a copy of the original array\n",
    "copy_arr[0] = 20  # Modify the copy\n",
    "print(\"Copy of the array:\", copy_arr)\n",
    "print(\"Original array remains unchanged:\", arr)  # Original array remains unchanged\n",
    "# A view shares the same data as the original array, while a copy creates a new array\n"
   ]
  },
  {
   "cell_type": "markdown",
   "id": "4b271056",
   "metadata": {},
   "source": [
    "transpose of the matrix"
   ]
  },
  {
   "cell_type": "code",
   "execution_count": 69,
   "id": "a4b084b7",
   "metadata": {},
   "outputs": [
    {
     "name": "stdout",
     "output_type": "stream",
     "text": [
      "Original array:\n",
      "[[1 2 3]\n",
      " [4 5 6]\n",
      " [7 8 9]]\n",
      "\n",
      "\n",
      "Transposed array using T attribute:\n",
      "[[1 4 7]\n",
      " [2 5 8]\n",
      " [3 6 9]]\n"
     ]
    }
   ],
   "source": [
    "#transpose of the matrix\n",
    "# Numpy supports matrix transposition using the T attribute or the transpose() method.\n",
    "arr = np.array([[1, 2, 3], [4, 5, 6], [7, 8, 9]])\n",
    "print(\"Original array:\")\n",
    "print(arr)\n",
    "print(\"\\n\")\n",
    "transposed_arr = arr.T  # Transpose the array using T attribute\n",
    "print(\"Transposed array using T attribute:\")\n",
    "print(transposed_arr)"
   ]
  },
  {
   "cell_type": "markdown",
   "id": "2d28ef45",
   "metadata": {},
   "source": [
    "swapaxes in numpy"
   ]
  },
  {
   "cell_type": "code",
   "execution_count": 70,
   "id": "197f8c69",
   "metadata": {},
   "outputs": [
    {
     "name": "stdout",
     "output_type": "stream",
     "text": [
      "Original array:\n",
      "[[[1 2 3]\n",
      "  [4 5 6]]]\n",
      "(1, 2, 3)\n",
      "\n",
      "\n",
      "Array after swapping axes 0 and 1:\n",
      "[[[1 2 3]]\n",
      "\n",
      " [[4 5 6]]]\n",
      "(2, 1, 3)\n"
     ]
    }
   ],
   "source": [
    "#swapaxes in numpy\n",
    "# The swapaxes() function is used to swap two axes of an array.\n",
    "arr = np.array([[[1, 2, 3], [4, 5, 6]]])\n",
    "print(\"Original array:\")\n",
    "print(arr)\n",
    "print(arr.shape)\n",
    "print(\"\\n\")\n",
    "swapped_arr = arr.swapaxes(0, 1)  # Swap axes 0 and 1\n",
    "print(\"Array after swapping axes 0 and 1:\")\n",
    "print(swapped_arr)\n",
    "print(swapped_arr.shape)"
   ]
  },
  {
   "cell_type": "markdown",
   "id": "8571520b",
   "metadata": {},
   "source": [
    "concatenation"
   ]
  },
  {
   "cell_type": "code",
   "execution_count": 71,
   "id": "8d91d87b",
   "metadata": {},
   "outputs": [
    {
     "name": "stdout",
     "output_type": "stream",
     "text": [
      "Concatenated array: [1 2 3 4 5 6 7 8]\n",
      "Vertically stacked array:\n",
      "[[1 2 3 4]\n",
      " [5 6 7 8]]\n",
      "Horizontally stacked array:\n",
      "[1 2 3 4 5 6 7 8]\n"
     ]
    }
   ],
   "source": [
    "arr1=np.array([1,2,3,4])\n",
    "arr2=np.array([5,6,7,8])\n",
    "#concatenation\n",
    "# Numpy supports concatenation of arrays along specified axes.\n",
    "concatenated_arr = np.concatenate((arr1, arr2))  # Concatenate along the first axis (default)\n",
    "#vstacking\n",
    "vstacked_arr = np.vstack((arr1, arr2))  # Stack arrays vertically (along rows)\n",
    "#hstacking\n",
    "hstacked_arr = np.hstack((arr1, arr2))  # Stack arrays horizontally (along columns)\n",
    "print(\"Concatenated array:\", concatenated_arr)\n",
    "print(\"Vertically stacked array:\")\n",
    "print(vstacked_arr)\n",
    "print(\"Horizontally stacked array:\")\n",
    "print(hstacked_arr)\n"
   ]
  },
  {
   "cell_type": "markdown",
   "id": "00d56486",
   "metadata": {},
   "source": [
    "spliting in arrays"
   ]
  },
  {
   "cell_type": "code",
   "execution_count": 72,
   "id": "a90a0baf",
   "metadata": {},
   "outputs": [
    {
     "name": "stdout",
     "output_type": "stream",
     "text": [
      "Original array: [1 2 3 4]\n",
      "Split array into 2 sub-arrays:\n",
      "[array([1, 2]), array([3, 4])]\n"
     ]
    }
   ],
   "source": [
    "#splitting in ararys\n",
    "# Numpy supports splitting arrays into multiple sub-arrays along specified axes.\n",
    "split_arr = np.split(arr1, 2)  # Split the array into 2 sub-arrays in uniform way\n",
    "print(\"Original array:\", arr1)\n",
    "print(\"Split array into 2 sub-arrays:\")\n",
    "print(split_arr)\n"
   ]
  },
  {
   "cell_type": "markdown",
   "id": "2d41e042",
   "metadata": {},
   "source": [
    "repeat vs tile "
   ]
  },
  {
   "cell_type": "code",
   "execution_count": 73,
   "id": "3ad36e70",
   "metadata": {},
   "outputs": [
    {
     "name": "stdout",
     "output_type": "stream",
     "text": [
      "Original array: [1 2 3]\n",
      "Array after repeating each element twice: [1 1 2 2 3 3]\n",
      "Array after tiling the entire array twice: [1 2 3 1 2 3]\n"
     ]
    }
   ],
   "source": [
    "#repeat vs tile\n",
    "# The repeat() function is used to repeat elements of an array, while the tile() function is used to repeat the entire array.\n",
    "\n",
    "arr= np.array([1, 2, 3])\n",
    "print(\"Original array:\", arr)\n",
    "repeat_arr = np.repeat(arr, 2)  # Repeat each element twice\n",
    "tile_arr = np.tile(arr, 2)  # Repeat the entire array twice\n",
    "print(\"Array after repeating each element twice:\", repeat_arr)\n",
    "print(\"Array after tiling the entire array twice:\", tile_arr)\n"
   ]
  },
  {
   "cell_type": "markdown",
   "id": "91cf8e42",
   "metadata": {},
   "source": [
    "aggregate functions"
   ]
  },
  {
   "cell_type": "code",
   "execution_count": 74,
   "id": "82162d81",
   "metadata": {},
   "outputs": [
    {
     "name": "stdout",
     "output_type": "stream",
     "text": [
      "Original array: [1 2 3 4 5]\n",
      "Sum of array elements: 15\n",
      "Mean of array elements: 3.0\n",
      "Standard deviation of array elements: 1.4142135623730951\n",
      "Variance of array elements: 2.0\n",
      "Original matrix:\n",
      "[[1 2 3]\n",
      " [4 5 6]\n",
      " [7 8 9]]\n",
      "Sum of each column: [12 15 18]\n",
      "Sum of each row: [ 6 15 24]\n",
      "Maximum element in the matrix: 9\n",
      "Minimum element in the matrix: 1\n",
      "Cumulative sum of array elements: [ 1  3  6 10 15]\n",
      "Cumulative product of array elements: [  1   2   6  24 120]\n",
      "Sorted array: [1 2 3 4 5]\n",
      "Sorted matrix along columns:\n",
      "[[1 2 3]\n",
      " [4 5 6]\n",
      " [7 8 9]]\n"
     ]
    }
   ],
   "source": [
    "#aggregate functions\n",
    "# Numpy provides various aggregate functions to perform operations on arrays.\n",
    "arr = np.array([1, 2, 3, 4, 5])\n",
    "print(\"Original array:\", arr)\n",
    "print(\"Sum of array elements:\", np.sum(arr))  # Sum of elements\n",
    "print(\"Mean of array elements:\", np.mean(arr))  # Mean of elements\n",
    "print(\"Standard deviation of array elements:\", np.std(arr))  # Standard deviation\n",
    "print(\"Variance of array elements:\", np.var(arr))  # Variance of elements\n",
    "\n",
    "matrix = np.array([[1, 2, 3], [4, 5, 6], [7, 8, 9]])\n",
    "print(\"Original matrix:\")\n",
    "print(matrix)\n",
    "print(\"Sum of each column:\", np.sum(matrix, axis=0))  # Sum along columns\n",
    "print(\"Sum of each row:\", np.sum(matrix, axis=1))  # Sum along\n",
    "# rows\n",
    "print(\"Maximum element in the matrix:\", np.max(matrix))  # Maximum element\n",
    "print(\"Minimum element in the matrix:\", np.min(matrix))  # Minimum element\n",
    "\n",
    "#cumulative functions\n",
    "# Numpy provides cumulative functions to perform operations on arrays.\n",
    "cumulative_sum = np.cumsum(arr)  # Cumulative sum\n",
    "cumulative_product = np.cumprod(arr)  # Cumulative product\n",
    "print(\"Cumulative sum of array elements:\", cumulative_sum)\n",
    "print(\"Cumulative product of array elements:\", cumulative_product)\n",
    "\n",
    "#sort function\n",
    "# Numpy provides a sort function to sort arrays.\n",
    "sorted_arr = np.sort(arr)  # Sort the array in ascending order\n",
    "print(\"Sorted array:\", sorted_arr)\n",
    "# Sorting a 2D array along a specified axis\n",
    "sorted_matrix = np.sort(matrix, axis=0)  # Sort each column in ascending order\n",
    "print(\"Sorted matrix along columns:\")\n",
    "print(sorted_matrix)\n",
    "\n",
    "\n"
   ]
  },
  {
   "cell_type": "markdown",
   "id": "eed12e8b",
   "metadata": {},
   "source": [
    "conditional based choices"
   ]
  },
  {
   "cell_type": "code",
   "execution_count": 75,
   "id": "d4e4084e",
   "metadata": {},
   "outputs": [
    {
     "name": "stdout",
     "output_type": "stream",
     "text": [
      "Indices of elements greater than 3: (array([3, 4]),)\n",
      "Elements greater than 3: [4 5]\n",
      "Conditional choice result: ['Less than or equal to 3' 'Less than or equal to 3'\n",
      " 'Less than or equal to 3' 'Greater than 3' 'Greater than 3']\n"
     ]
    }
   ],
   "source": [
    "#where function\n",
    "# The where() function is used to find indices of elements that satisfy a specified condition.\n",
    "arr = np.array([1, 2, 3, 4, 5])\n",
    "condition = arr > 3  # Condition to find elements greater than 3\n",
    "indices = np.where(condition)  # Find indices of elements satisfying the condition\n",
    "print(\"Indices of elements greater than 3:\", indices)\n",
    "print(\"Elements greater than 3:\", arr[indices])  # Access elements using the indices\n",
    "result =np.where(arr>3, \"Greater than 3\", \"Less than or equal to 3\")  # Conditional choice\n",
    "print(\"Conditional choice result:\", result)  # Result based on the condition"
   ]
  },
  {
   "cell_type": "markdown",
   "id": "343ad087",
   "metadata": {},
   "source": [
    "argwhere for 2d arrays\n"
   ]
  },
  {
   "cell_type": "code",
   "execution_count": 76,
   "id": "09f04ca0",
   "metadata": {},
   "outputs": [
    {
     "name": "stdout",
     "output_type": "stream",
     "text": [
      "Indices of elements greater than 5 in 2D array: [[1 2]\n",
      " [2 0]\n",
      " [2 1]\n",
      " [2 2]]\n",
      "Elements greater than 5 in 2D array: [[[4 5 6]\n",
      "  [7 8 9]]\n",
      "\n",
      " [[7 8 9]\n",
      "  [1 2 3]]\n",
      "\n",
      " [[7 8 9]\n",
      "  [4 5 6]]\n",
      "\n",
      " [[7 8 9]\n",
      "  [7 8 9]]]\n"
     ]
    }
   ],
   "source": [
    "#argwhere for 2d arrays\n",
    "# The argwhere() function is used to find indices of elements that satisfy a specified condition in\n",
    "# multi-dimensional arrays.\n",
    "arr2d = np.array([[1, 2, 3], [4, 5, 6], [7, 8, 9]])\n",
    "condition_2d = arr2d > 5  # Condition to find elements greater than 5\n",
    "indices_2d = np.argwhere(condition_2d)  # Find indices of elements satisfying the condition\n",
    "print(\"Indices of elements greater than 5 in 2D array:\", indices_2d)\n",
    "print(\"Elements greater than 5 in 2D array:\", arr2d[indices_2d])  # Access elements using the indices"
   ]
  },
  {
   "cell_type": "markdown",
   "id": "bf61b957",
   "metadata": {},
   "source": [
    "advanced conditional functions"
   ]
  },
  {
   "cell_type": "code",
   "execution_count": 77,
   "id": "71404273",
   "metadata": {},
   "outputs": [
    {
     "name": "stdout",
     "output_type": "stream",
     "text": [
      "[[1 2 3]\n",
      " [4 5 6]\n",
      " [7 8 9]]\n",
      "Mask for elements greater than 5 and less than 9:\n",
      "[[False False False]\n",
      " [False False  True]\n",
      " [ True  True False]]\n",
      "Mask for elements greater than 5 or less than 9:\n",
      "[[ True  True  True]\n",
      " [ True  True  True]\n",
      " [ True  True  True]]\n"
     ]
    }
   ],
   "source": [
    "import numpy as np\n",
    "mask=np.logical_and(arr2d > 5, arr2d < 9)  # Create a mask for elements greater than 5 and less than 9\n",
    "print(arr2d)\n",
    "print(\"Mask for elements greater than 5 and less than 9:\")  \n",
    "print(mask)  # Display the mask\n",
    "\n",
    "mask1=np.logical_or(arr2d > 1, arr2d < 4)  # Create a mask for elements greater than 5 or less than 9\n",
    "print(\"Mask for elements greater than 5 or less than 9:\")   \n",
    "print(mask1)  # Display the mask"
   ]
  },
  {
   "cell_type": "markdown",
   "id": "46d26931",
   "metadata": {},
   "source": [
    "nonzero function"
   ]
  },
  {
   "cell_type": "code",
   "execution_count": 78,
   "id": "064e5ce4",
   "metadata": {},
   "outputs": [
    {
     "name": "stdout",
     "output_type": "stream",
     "text": [
      "Indices of non-zero elements: (array([0, 1, 4, 5, 8]),)\n"
     ]
    }
   ],
   "source": [
    "list=[1,2,0,0,3,4,0,0,5]\n",
    "arr=np.nonzero(list)  # Find indices of non-zero elements\n",
    "print(\"Indices of non-zero elements:\",arr)  # Display the indices of non-zero elements"
   ]
  },
  {
   "cell_type": "markdown",
   "id": "1965eb0a",
   "metadata": {},
   "source": [
    "broadcasting"
   ]
  },
  {
   "cell_type": "code",
   "execution_count": 79,
   "id": "d6d18cf8",
   "metadata": {},
   "outputs": [
    {
     "name": "stdout",
     "output_type": "stream",
     "text": [
      "Array 1: [1 2 3]\n",
      "Array 2:\n",
      "[[4]\n",
      " [5]\n",
      " [6]]\n",
      "Array 1 + Array 2:\n",
      "[[5 6 7]\n",
      " [6 7 8]\n",
      " [7 8 9]]\n"
     ]
    }
   ],
   "source": [
    "#broadcasting\n",
    "# Numpy supports broadcasting, which allows operations on arrays of different shapes.\n",
    "#strech the shape of the smaller array to match the shape of the larger array\n",
    "arr1 = np.array([1, 2, 3]) #  # 1D array with shape (3,1)\n",
    "arr2 = np.array([[4], [5], [6]])  # 2D array with shape (3, 1)\n",
    "print(\"Array 1:\", arr1)\n",
    "print(\"Array 2:\")\n",
    "print(arr2)\n",
    "print(\"Array 1 + Array 2:\")\n",
    "print(arr1 + arr2)  # Broadcasting allows addition of arrays with different shapes (3,1) and (3,1 ) is (3,3)\n",
    "# either of the arrays can be 1D or 2D, as long as they are compatible for broadcasting. broadcasating of arrays of shape 2,3 and 3,2 is ont possible because either of them are not a 1d array\n"
   ]
  },
  {
   "cell_type": "markdown",
   "id": "1bc8239a",
   "metadata": {},
   "source": [
    "applicatioon of broadcasting"
   ]
  },
  {
   "cell_type": "code",
   "execution_count": 80,
   "id": "31cd0f29",
   "metadata": {},
   "outputs": [
    {
     "name": "stdout",
     "output_type": "stream",
     "text": [
      "Original image array:\n",
      "[[200 150]\n",
      " [100 250]]\n",
      "Brightness adjusted image array:\n",
      "[[250 200]\n",
      " [150 300]]\n"
     ]
    }
   ],
   "source": [
    "image=np.array([[200,150],[100,250]])\n",
    "# Application of broadcasting in image processing\n",
    "# Adding a constant value to the image array\n",
    "brightness=image + 50  # Increase brightness by 50\n",
    "print(\"Original image array:\")\n",
    "print(image)\n",
    "print(\"Brightness adjusted image array:\")\n",
    "print(brightness)  # Display the adjusted image array"
   ]
  },
  {
   "cell_type": "markdown",
   "id": "01cffdcb",
   "metadata": {},
   "source": [
    "vectorization"
   ]
  },
  {
   "cell_type": "code",
   "execution_count": 81,
   "id": "e1196f29",
   "metadata": {},
   "outputs": [
    {
     "name": "stdout",
     "output_type": "stream",
     "text": [
      "Original array: [1 2 3 4 5]\n",
      "Squared array: [ 1  4  9 16 25]\n",
      "Original array: [1 2 3 4 5]\n",
      "Squared array using vectorization: [ 1  4  9 16 25]\n",
      "MemoryError: Unable to allocate 74.5 GiB for an array with shape (100000, 100000) and data type float64\n"
     ]
    }
   ],
   "source": [
    "#vectorization\n",
    "# Numpy supports vectorization, which allows operations on entire arrays without explicit loops.    \n",
    "arr = np.array([1, 2, 3, 4, 5])\n",
    "# Vectorized operation: squaring each element\n",
    "squared_arr = arr ** 2  # Square each element\n",
    "print(\"Original array:\", arr)\n",
    "print(\"Squared array:\", squared_arr)  # Display the squared array\n",
    "\n",
    "def square(x):\n",
    "    return x *x\n",
    "vfunc=np.vectorize(square)  # Vectorize the square function\n",
    "arr = np.array([1, 2, 3, 4, 5])\n",
    "squared_arr = vfunc(arr)  # Apply the vectorized function to the array\n",
    "print(\"Original array:\", arr)\n",
    "print(\"Squared array using vectorization:\", squared_arr)  # Display the squared array using vectorization\n",
    "\n",
    "\n",
    "#disadvantages of vectorization\n",
    "# While vectorization is powerful, it can lead to memory issues for very large arrays.\n",
    "# For example, if you try to create a very large array, it may exceed available memory.\n",
    "# Example of a large array that may cause memory issues\n",
    "try:\n",
    "    large_array = np.ones((100000, 100000))  # Attempt to create a very large array\n",
    "except MemoryError as e:\n",
    "    print(\"MemoryError:\", e)\n",
    "# The above code may raise a MemoryError if the system does not have enough memory to allocate for the large array.\n",
    "\n"
   ]
  },
  {
   "cell_type": "markdown",
   "id": "d744de41",
   "metadata": {},
   "source": [
    "dealing with missiing values"
   ]
  },
  {
   "cell_type": "code",
   "execution_count": 83,
   "id": "ea4fb215",
   "metadata": {},
   "outputs": [
    {
     "name": "stdout",
     "output_type": "stream",
     "text": [
      "Original array with missing value: [ 1.  2. nan  4.  5.]\n",
      "Array with positive and negative infinity: [  1.   2.  inf -inf   5.]\n",
      "Is NaN in array: [False False  True False False]\n",
      "Is Inf in array: [False False  True  True False]\n",
      "Is finite in array: [ True  True False False  True]\n",
      "Array after replacing NaN with 0: [1. 2. 0. 4. 5.]\n",
      "Array after replacing Inf with 0: [1. 2. 0. 0. 5.]\n"
     ]
    }
   ],
   "source": [
    "#dealling with missing values\n",
    "# Numpy provides functions to handle missing values in arrays.\n",
    "arr = np.array([1, 2, np.nan, 4, 5])  # Array with a missing value (NaN)\n",
    "print(\"Original array with missing value:\", arr)\n",
    "\n",
    "#np.inf and -np.inf represent positive and negative infinity, respectively.\n",
    "arr_with_inf = np.array([1, 2, np.inf, -np.inf, 5])  # Array with positive and negative infinity\n",
    "print(\"Array with positive and negative infinity:\", arr_with_inf)\n",
    "print(\"Is NaN in array:\", np.isnan(arr))  # Check for NaN values\n",
    "print(\"Is Inf in array:\", np.isinf(arr_with_inf))  # Check for Inf\n",
    "print(\"Is finite in array:\", np.isfinite(arr_with_inf))  # Check for finite values\n",
    "# Replacing NaN with a specific value (e.g., 0)\n",
    "arr_filled = np.nan_to_num(arr, nan=0)  # Replace NaN with 0\n",
    "print(\"Array after replacing NaN with 0:\", arr_filled)\n",
    "# Replacing Inf with a specific value (e.g., 0)\n",
    "arr_with_inf_filled = np.nan_to_num(arr_with_inf, posinf=0, neginf=0)  # Replace Inf with 0\n",
    "print(\"Array after replacing Inf with 0:\", arr_with_inf_filled)\n",
    "\n",
    "\n"
   ]
  }
 ],
 "metadata": {
  "kernelspec": {
   "display_name": ".venv",
   "language": "python",
   "name": "python3"
  },
  "language_info": {
   "codemirror_mode": {
    "name": "ipython",
    "version": 3
   },
   "file_extension": ".py",
   "mimetype": "text/x-python",
   "name": "python",
   "nbconvert_exporter": "python",
   "pygments_lexer": "ipython3",
   "version": "3.13.2"
  }
 },
 "nbformat": 4,
 "nbformat_minor": 5
}
